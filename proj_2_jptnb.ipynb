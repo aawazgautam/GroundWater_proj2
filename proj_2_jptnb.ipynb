{
 "cells": [
  {
   "cell_type": "markdown",
   "id": "aebe6601",
   "metadata": {},
   "source": [
    "<center> <h1> <font color='Green'> GREEN TEAM <font> </h1> </center>"
   ]
  },
  {
   "cell_type": "markdown",
   "id": "d9a9c074",
   "metadata": {},
   "source": [
    "<h3><center><font color='GREEN'> 1. AAWAZ GAUTAM, 2. SONJOY PAUL AVI, 3. DHARMIK PATEL</font></center></h3>"
   ]
  },
  {
   "cell_type": "markdown",
   "id": "fb9ede0e",
   "metadata": {},
   "source": [
    "<h3><center><font color='GREEN'>PROJECT ASSIGNMENT: ANALYSING AQUIFER AND GROUND WATER LEVEL OF SOUTHEST TEXAS</font></center></h3>"
   ]
  },
  {
   "cell_type": "markdown",
   "id": "86b39991",
   "metadata": {},
   "source": [
    "<p> Aquifer: Aquifer is a body of porous rock or sediment saturated with groundwater.\n",
    "    There are two types of aquifer 1. Unconfined, 2. Confined</p>\n",
    "\n",
    "<p> According to United States Geological Survey (USGS) figures, groundwater provides an estimated:\n",
    "    1. 22% of all freshwater withdrawals.\n",
    "    2. 37% of agricultural use (mostly for irrigation).\n",
    "    3. 37% of the public water supply withdrawals.\n",
    "    4. 51% of all drinking water for the total population.\n",
    "    5. 99% of drinking water for the rural population . </p>\n",
    "\n",
    "<p> <font> In this notebook we want to work with the datas from GAM model, MOD Flow and HAGM model. We want to create a relational database and then graphically plot maps using those datas. The potential areas could be aquifer depth change, water quality, etc</p>\n",
    "<p>           </p>"
   ]
  },
  {
   "cell_type": "markdown",
   "id": "937913a4",
   "metadata": {},
   "source": [
    "<h4><font color='GREEN'> Load Libraries </font> </h4>"
   ]
  },
  {
   "cell_type": "code",
   "execution_count": 2,
   "id": "3da8f453",
   "metadata": {},
   "outputs": [],
   "source": [
    "import pandas as pd\n",
    "from shapely.geometry import Point\n",
    "import geopandas as gpd\n",
    "import numpy as np\n",
    "import matplotlib.pyplot as plt\n",
    "import sqlite3\n",
    "import os\n",
    "import warnings\n",
    "warnings.filterwarnings(\"ignore\")"
   ]
  },
  {
   "cell_type": "markdown",
   "id": "549fc944",
   "metadata": {},
   "source": [
    "<h4><font color='GREEN'> Importing the datas from .dis file of HAGM. </font> </h4>\n",
    "\n",
    "#DIS stands for discretization file format. It has a flat file datas of  10 columns and 17125 rows. This file stores the data of 5 layer(4top 1bottom) of 4 aquifers(Chicot, Evangeline, Burkeville and Jasper).\n",
    "#We used numpy matrix shaping feature to seperate this flat datafile to retain the datas for individual aquifer."
   ]
  },
  {
   "cell_type": "code",
   "execution_count": 3,
   "id": "4c360e02",
   "metadata": {},
   "outputs": [
    {
     "data": {
      "text/plain": [
       "array([[-10000., -10000., -10000., ..., -10000., -10000., -10000.],\n",
       "       [-10000., -10000., -10000., ..., -10000., -10000., -10000.],\n",
       "       [-10000., -10000., -10000., ..., -10000., -10000., -10000.],\n",
       "       ...,\n",
       "       [-10000., -10000., -10000., ..., -10000., -10000., -10000.],\n",
       "       [-10000., -10000., -10000., ..., -10000., -10000., -10000.],\n",
       "       [-10000., -10000., -10000., ...,     nan,     nan,     nan]])"
      ]
     },
     "execution_count": 3,
     "metadata": {},
     "output_type": "execute_result"
    }
   ],
   "source": [
    "a=np.genfromtxt('D:\\\\Fall22\\\\Python\\\\Capstone-project-II\\\\Nov_4\\\\Data_HAGM2013.csv', delimiter=',')\n",
    "a# The shape of this file is initially 17125 x 10"
   ]
  },
  {
   "cell_type": "markdown",
   "id": "ec7c3c60",
   "metadata": {},
   "source": [
    "<h4><font color='GREEN'> Reshaping the existing datas to the form of 5 layers for 137 rows and 245 columns </font> </h4>"
   ]
  },
  {
   "cell_type": "code",
   "execution_count": 5,
   "id": "f95383c8",
   "metadata": {},
   "outputs": [],
   "source": [
    "b=a.reshape(5,137,250)"
   ]
  },
  {
   "cell_type": "markdown",
   "id": "eba6bd95",
   "metadata": {},
   "source": [
    "<h4><font color='GREEN'> Separating the depth location of 5 layers for the 4 aquifers and also removing column having 'nan' value </font> </h4>"
   ]
  },
  {
   "cell_type": "code",
   "execution_count": 6,
   "id": "e1b3d26b",
   "metadata": {},
   "outputs": [],
   "source": [
    "l1 = b[0][0:137,0:245]\n",
    "l2 = b[1][0:137,0:245]\n",
    "l3 = b[2][0:137,0:245]\n",
    "l4 = b[3][0:137,0:245]\n",
    "l5 = b[4][0:137,0:245]"
   ]
  },
  {
   "cell_type": "markdown",
   "id": "9732abf2",
   "metadata": {},
   "source": [
    "We dealt with the rows and columns tabular datas having numerical and string values"
   ]
  },
  {
   "cell_type": "markdown",
   "id": "938ff3fb",
   "metadata": {},
   "source": [
    "<h4><font color='GREEN'> Creating List table of databas that has CellID, ROW No, Col No, and the depth at which 4 tops of the aquifer exists and a bottom exists </font> </h4>"
   ]
  },
  {
   "cell_type": "code",
   "execution_count": 7,
   "id": "48837a9f",
   "metadata": {},
   "outputs": [],
   "source": [
    "Table1 = pd.DataFrame(columns=['CELL_ID', 'L1', 'L2', 'L3','L4', 'L5'])\n",
    "Table2 = pd.DataFrame(columns=['CELL_ID', 'ROW', 'COL'])"
   ]
  },
  {
   "cell_type": "code",
   "execution_count": 8,
   "id": "1b93ab42",
   "metadata": {},
   "outputs": [],
   "source": [
    "import warnings\n",
    "warnings.filterwarnings('ignore')"
   ]
  },
  {
   "cell_type": "markdown",
   "id": "83dccfa9",
   "metadata": {},
   "source": [
    "<h4><font color='GREEN'> Defining a range of numbers for rows number and column numbers and using a loop </font> </h4>\n",
    "\n",
    "#The CELL_ID is the unique IDENTITY Number of each GRID and it is in the formula of: 10^6 + 10^3 Row No + Col No "
   ]
  },
  {
   "cell_type": "code",
   "execution_count": 9,
   "id": "9efa295c",
   "metadata": {
    "scrolled": false
   },
   "outputs": [],
   "source": [
    "r1 = range(0,137)\n",
    "r2 = range(0,245)\n",
    "for i in r1:\n",
    "    for j in r2:\n",
    "        c=pow(10,6)+pow(10,3)*(i+1)+(j+1)\n",
    "        tab1_col = {'CELL_ID':c, 'L1': l1[i,j], 'L2': l2[i,j], 'L3': l3[i,j], 'L4': l4[i,j], 'L5': l5[i,j]}\n",
    "        tab2_col = {'CELL_ID':c,'ROW': i+1, 'COL': j+1 }\n",
    "        Table1 = Table1.append(tab1_col, ignore_index = True)\n",
    "        Table2 = Table2.append(tab2_col, ignore_index = True)"
   ]
  },
  {
   "cell_type": "markdown",
   "id": "cd8ee565",
   "metadata": {},
   "source": [
    "<h4><font color='GREEN'>DATABASE TABLE: Creating the first Table for our database.</font> </h4>\n",
    "#The table name on database is 'lay_depth' has 3 columns CELL_ID, LAYER, DEPTH. (SIZE: "
   ]
  },
  {
   "cell_type": "code",
   "execution_count": 22,
   "id": "4b9e8400",
   "metadata": {},
   "outputs": [],
   "source": [
    "lay=['L1', 'L2', 'L3', 'L4', 'L5']\n",
    "Table1_new = pd.DataFrame(columns=['CELL_ID', 'LAYER', 'DEPTH'])\n",
    "r3=range(0,len(Table1))\n",
    "k=k1=0\n",
    "for k in r3:\n",
    "    temp=[Table1.L1[k], Table1.L2[k], Table1.L3[k], Table1.L4[k], Table1.L5[k]]\n",
    "    for k1 in range(0,5):\n",
    "        tab1new = {'CELL_ID':Table1.CELL_ID[k],'LAYER': lay[k1], 'DEPTH': temp[k1] }\n",
    "        Table1_new = Table1_new.append(tab1new, ignore_index = True)"
   ]
  },
  {
   "cell_type": "code",
   "execution_count": 23,
   "id": "add1569f",
   "metadata": {},
   "outputs": [
    {
     "data": {
      "text/html": [
       "<div>\n",
       "<style scoped>\n",
       "    .dataframe tbody tr th:only-of-type {\n",
       "        vertical-align: middle;\n",
       "    }\n",
       "\n",
       "    .dataframe tbody tr th {\n",
       "        vertical-align: top;\n",
       "    }\n",
       "\n",
       "    .dataframe thead th {\n",
       "        text-align: right;\n",
       "    }\n",
       "</style>\n",
       "<table border=\"1\" class=\"dataframe\">\n",
       "  <thead>\n",
       "    <tr style=\"text-align: right;\">\n",
       "      <th></th>\n",
       "      <th>CELL_ID</th>\n",
       "      <th>LAYER</th>\n",
       "      <th>DEPTH</th>\n",
       "    </tr>\n",
       "  </thead>\n",
       "  <tbody>\n",
       "    <tr>\n",
       "      <th>0</th>\n",
       "      <td>1001001.0</td>\n",
       "      <td>L1</td>\n",
       "      <td>-10000.0</td>\n",
       "    </tr>\n",
       "    <tr>\n",
       "      <th>1</th>\n",
       "      <td>1001001.0</td>\n",
       "      <td>L2</td>\n",
       "      <td>-10000.0</td>\n",
       "    </tr>\n",
       "    <tr>\n",
       "      <th>2</th>\n",
       "      <td>1001001.0</td>\n",
       "      <td>L3</td>\n",
       "      <td>-10000.0</td>\n",
       "    </tr>\n",
       "    <tr>\n",
       "      <th>3</th>\n",
       "      <td>1001001.0</td>\n",
       "      <td>L4</td>\n",
       "      <td>-10000.0</td>\n",
       "    </tr>\n",
       "    <tr>\n",
       "      <th>4</th>\n",
       "      <td>1001001.0</td>\n",
       "      <td>L5</td>\n",
       "      <td>-10000.0</td>\n",
       "    </tr>\n",
       "    <tr>\n",
       "      <th>...</th>\n",
       "      <td>...</td>\n",
       "      <td>...</td>\n",
       "      <td>...</td>\n",
       "    </tr>\n",
       "    <tr>\n",
       "      <th>167820</th>\n",
       "      <td>1137245.0</td>\n",
       "      <td>L1</td>\n",
       "      <td>-10000.0</td>\n",
       "    </tr>\n",
       "    <tr>\n",
       "      <th>167821</th>\n",
       "      <td>1137245.0</td>\n",
       "      <td>L2</td>\n",
       "      <td>-10000.0</td>\n",
       "    </tr>\n",
       "    <tr>\n",
       "      <th>167822</th>\n",
       "      <td>1137245.0</td>\n",
       "      <td>L3</td>\n",
       "      <td>-10000.0</td>\n",
       "    </tr>\n",
       "    <tr>\n",
       "      <th>167823</th>\n",
       "      <td>1137245.0</td>\n",
       "      <td>L4</td>\n",
       "      <td>-10000.0</td>\n",
       "    </tr>\n",
       "    <tr>\n",
       "      <th>167824</th>\n",
       "      <td>1137245.0</td>\n",
       "      <td>L5</td>\n",
       "      <td>-10000.0</td>\n",
       "    </tr>\n",
       "  </tbody>\n",
       "</table>\n",
       "<p>167825 rows × 3 columns</p>\n",
       "</div>"
      ],
      "text/plain": [
       "          CELL_ID LAYER    DEPTH\n",
       "0       1001001.0    L1 -10000.0\n",
       "1       1001001.0    L2 -10000.0\n",
       "2       1001001.0    L3 -10000.0\n",
       "3       1001001.0    L4 -10000.0\n",
       "4       1001001.0    L5 -10000.0\n",
       "...           ...   ...      ...\n",
       "167820  1137245.0    L1 -10000.0\n",
       "167821  1137245.0    L2 -10000.0\n",
       "167822  1137245.0    L3 -10000.0\n",
       "167823  1137245.0    L4 -10000.0\n",
       "167824  1137245.0    L5 -10000.0\n",
       "\n",
       "[167825 rows x 3 columns]"
      ]
     },
     "execution_count": 23,
     "metadata": {},
     "output_type": "execute_result"
    }
   ],
   "source": [
    "Table1_new"
   ]
  },
  {
   "cell_type": "markdown",
   "id": "aacd4193",
   "metadata": {},
   "source": [
    "# <h4><font color='GREEN'>DATABASE TABLE: Description of layer table </font> </h4>"
   ]
  },
  {
   "cell_type": "code",
   "execution_count": 16,
   "id": "ae22ea1a",
   "metadata": {},
   "outputs": [],
   "source": [
    "TableX = pd.DataFrame(columns=['Layer', 'Description'])\n",
    "TableX = TableX.append({'Layer':'L1', 'Description': 'Chicot Top'}, ignore_index = True)\n",
    "TableX = TableX.append({'Layer':'L2', 'Description': 'Evangeline Top'}, ignore_index = True)\n",
    "TableX = TableX.append({'Layer':'L3', 'Description': 'Burkeville Top'}, ignore_index = True)\n",
    "TableX = TableX.append({'Layer':'L4', 'Description': 'Jasper Top'}, ignore_index = True)\n",
    "TableX = TableX.append({'Layer':'L5', 'Description': 'Jasper Bottom'}, ignore_index = True)"
   ]
  },
  {
   "cell_type": "code",
   "execution_count": 24,
   "id": "50e50d40",
   "metadata": {},
   "outputs": [
    {
     "data": {
      "text/html": [
       "<div>\n",
       "<style scoped>\n",
       "    .dataframe tbody tr th:only-of-type {\n",
       "        vertical-align: middle;\n",
       "    }\n",
       "\n",
       "    .dataframe tbody tr th {\n",
       "        vertical-align: top;\n",
       "    }\n",
       "\n",
       "    .dataframe thead th {\n",
       "        text-align: right;\n",
       "    }\n",
       "</style>\n",
       "<table border=\"1\" class=\"dataframe\">\n",
       "  <thead>\n",
       "    <tr style=\"text-align: right;\">\n",
       "      <th></th>\n",
       "      <th>Layer</th>\n",
       "      <th>Description</th>\n",
       "    </tr>\n",
       "  </thead>\n",
       "  <tbody>\n",
       "    <tr>\n",
       "      <th>0</th>\n",
       "      <td>L1</td>\n",
       "      <td>Chicot Top</td>\n",
       "    </tr>\n",
       "    <tr>\n",
       "      <th>1</th>\n",
       "      <td>L2</td>\n",
       "      <td>Evangeline Top</td>\n",
       "    </tr>\n",
       "    <tr>\n",
       "      <th>2</th>\n",
       "      <td>L3</td>\n",
       "      <td>Burkeville Top</td>\n",
       "    </tr>\n",
       "    <tr>\n",
       "      <th>3</th>\n",
       "      <td>L4</td>\n",
       "      <td>Jasper Top</td>\n",
       "    </tr>\n",
       "    <tr>\n",
       "      <th>4</th>\n",
       "      <td>L5</td>\n",
       "      <td>Jasper Bottom</td>\n",
       "    </tr>\n",
       "  </tbody>\n",
       "</table>\n",
       "</div>"
      ],
      "text/plain": [
       "  Layer     Description\n",
       "0    L1      Chicot Top\n",
       "1    L2  Evangeline Top\n",
       "2    L3  Burkeville Top\n",
       "3    L4      Jasper Top\n",
       "4    L5   Jasper Bottom"
      ]
     },
     "execution_count": 24,
     "metadata": {},
     "output_type": "execute_result"
    }
   ],
   "source": [
    "TableX"
   ]
  },
  {
   "cell_type": "markdown",
   "id": "3ff5f14e",
   "metadata": {},
   "source": [
    "<h4><font color='GREEN'>USING GEOPANDAS TO IMPORT SHAPE FILES OF GRID</font> </h4>\n",
    "#We import shape files of grid(saved as from geo data base) because we want to preserve geometry of grid in our codes"
   ]
  },
  {
   "cell_type": "code",
   "execution_count": 17,
   "id": "c414bf3f",
   "metadata": {},
   "outputs": [
    {
     "data": {
      "text/plain": [
       "<AxesSubplot:>"
      ]
     },
     "execution_count": 17,
     "metadata": {},
     "output_type": "execute_result"
    },
    {
     "data": {
      "image/png": "[encoded data removed]",
      "text/plain": [
       "<Figure size 432x288 with 1 Axes>"
      ]
     },
     "metadata": {
      "needs_background": "light"
     },
     "output_type": "display_data"
    }
   ],
   "source": [
    "df2 = gpd.read_file('D:\\\\Fall22\\\\Python\\\\Capstone-project-II\\\\GRID.zip')\n",
    "df2.plot()"
   ]
  },
  {
   "cell_type": "code",
   "execution_count": 18,
   "id": "33512c75",
   "metadata": {},
   "outputs": [
    {
     "data": {
      "text/plain": [
       "geopandas.geodataframe.GeoDataFrame"
      ]
     },
     "execution_count": 18,
     "metadata": {},
     "output_type": "execute_result"
    }
   ],
   "source": [
    "tab3_rem_col = ['CELL_ID','CountyName','CountyNum','CentroidX','CentroidY','AQ_Active1','AQ_Active2','AQ_Active3', 'AQ_Active4', 'geometry']\n",
    "Table3 = df2.filter(tab3_rem_col, axis=1)\n",
    "type(Table3)"
   ]
  },
  {
   "cell_type": "markdown",
   "id": "bd3b4e33",
   "metadata": {},
   "source": [
    "<h4><font color='GREEN'>Description of layer table and set the path </font> </h4>"
   ]
  },
  {
   "cell_type": "code",
   "execution_count": 19,
   "id": "dd0fdf2a",
   "metadata": {},
   "outputs": [],
   "source": [
    "df3x = pd.read_csv(\"D:\\\\Fall22\\\\Python\\\\Capstone-project-II\\\\Nov_4\\\\WellMain.csv\")\n",
    "Table4 = df3x\n"
   ]
  },
  {
   "cell_type": "code",
   "execution_count": 25,
   "id": "ccd3c510",
   "metadata": {},
   "outputs": [],
   "source": [
    "df4x = pd.read_csv(\"D:\\\\Fall22\\\\Python\\\\Capstone-project-II\\\\Nov_4\\\\WaterLevelsMajor.csv\", encoding=\"utf-8\")\n",
    "Table5 = df4x"
   ]
  },
  {
   "cell_type": "markdown",
   "id": "c629442c",
   "metadata": {},
   "source": [
    "<h4><font color='GREEN'>CREATING DATABASE </font> </h4>"
   ]
  },
  {
   "cell_type": "code",
   "execution_count": 26,
   "id": "36d9a821",
   "metadata": {},
   "outputs": [
    {
     "data": {
      "text/plain": [
       "'D:\\\\Fall22\\\\Python\\\\Capstone-project-II\\\\Nov_4\\\\DBase'"
      ]
     },
     "execution_count": 26,
     "metadata": {},
     "output_type": "execute_result"
    }
   ],
   "source": [
    "path_db = 'D:\\\\Fall22\\\\Python\\\\Capstone-project-II\\\\Nov_4\\\\DBase'\n",
    "os.chdir(path_db)\n",
    "os.getcwd()"
   ]
  },
  {
   "cell_type": "code",
   "execution_count": 27,
   "id": "af64c139",
   "metadata": {},
   "outputs": [],
   "source": [
    "con= sqlite3.connect(\"Proj2.db\")\n",
    "\n",
    "TableX.to_sql('lay_desc', con, index=False)\n",
    "Table1_new.to_sql('lay_depth',con, index=False)\n",
    "Table2.to_sql('grid_cell_desc',con, index=False)\n",
    "\n",
    "con.commit()\n",
    "cur = con.cursor()"
   ]
  },
  {
   "cell_type": "markdown",
   "id": "33bff724",
   "metadata": {},
   "source": [
    "<h4><font color='GREEN'> CREATING EMPTY DATABASE WITH Cell_ID as primary Key AND COPYING DATA FROM EXISTING TABLE. </font> </h4>"
   ]
  },
  {
   "cell_type": "code",
   "execution_count": 28,
   "id": "4f888f7e",
   "metadata": {},
   "outputs": [
    {
     "data": {
      "text/plain": [
       "<sqlite3.Cursor at 0x18495c145e0>"
      ]
     },
     "execution_count": 28,
     "metadata": {},
     "output_type": "execute_result"
    }
   ],
   "source": [
    "cur.execute(\"\"\"BEGIN TRANSACTION;\"\"\") #starting the process to edit database saved in cur variable\n",
    "cur.execute(\"\"\"ALTER TABLE grid_cell_desc RENAME TO old_grid_cell_desc;\"\"\") # renaming the existing table because we dont want to have same name for the table with keys\n",
    "cur.execute(\"\"\"\n",
    "CREATE TABLE grid_cell_desc\n",
    "(\n",
    " CELL_ID INTEGER,\n",
    " ROW INTEGER,\n",
    " COLUMN INTEGER,\n",
    " CONSTRAINT CELL_ID_pk PRIMARY KEY (CELL_ID)\n",
    ");\n",
    "\"\"\") # Creating a table specifying primary key\n",
    "\n",
    "cur.execute(\"\"\"INSERT INTO grid_cell_desc SELECT * FROM old_grid_cell_desc;\"\"\") # copying the content of old table to new table\n",
    "cur.execute(\"\"\"DROP TABLE old_grid_cell_desc \"\"\")#Syntax to Delete old table\n",
    "cur.execute(\"\"\"COMMIT;\"\"\") # closing the transaction by saving the changes"
   ]
  },
  {
   "cell_type": "markdown",
   "id": "667e102d",
   "metadata": {},
   "source": [
    "#Replicating the layer description table in sql database specifying primary key.\n",
    "#Make Layer as primary Key(primary key name: LAYER_pk)"
   ]
  },
  {
   "cell_type": "code",
   "execution_count": 29,
   "id": "95e79eb1",
   "metadata": {},
   "outputs": [
    {
     "data": {
      "text/plain": [
       "<sqlite3.Cursor at 0x18495c145e0>"
      ]
     },
     "execution_count": 29,
     "metadata": {},
     "output_type": "execute_result"
    }
   ],
   "source": [
    "cur.execute(\"\"\"BEGIN TRANSACTION;\"\"\") #starting the process to edit database saved in cur variable\n",
    "cur.execute(\"\"\"ALTER TABLE lay_desc RENAME TO old_lay_desc;\"\"\") # renaming the existing table because we dont want to have same name for the table with keys\n",
    "cur.execute(\"\"\"\n",
    "CREATE TABLE lay_desc\n",
    "(\n",
    " LAYER TEXT,\n",
    " DESCRIPTION TEXT,\n",
    " CONSTRAINT LAYER_pk PRIMARY KEY (LAYER)\n",
    ");\n",
    "\"\"\") # Creating a table specifying primary key\n",
    "\n",
    "cur.execute(\"\"\"INSERT INTO lay_desc SELECT * FROM old_lay_desc;\"\"\") # copying the content of old table to new table\n",
    "cur.execute(\"\"\"DROP TABLE old_lay_desc \"\"\")#Syntax to Delete old table\n",
    "cur.execute(\"\"\"COMMIT;\"\"\") # closing the transaction by saving the changes"
   ]
  },
  {
   "cell_type": "markdown",
   "id": "ab37552a",
   "metadata": {},
   "source": [
    "#Replicating the layer depth table in sql database specifying foreign key.\n",
    "#Make Layer as primary Key"
   ]
  },
  {
   "cell_type": "code",
   "execution_count": 30,
   "id": "8dc83e03",
   "metadata": {},
   "outputs": [
    {
     "data": {
      "text/plain": [
       "<sqlite3.Cursor at 0x18495c145e0>"
      ]
     },
     "execution_count": 30,
     "metadata": {},
     "output_type": "execute_result"
    }
   ],
   "source": [
    "cur.execute(\"\"\"BEGIN TRANSACTION;\"\"\") #starting the process to edit database saved in cur variable\n",
    "cur.execute(\"\"\"ALTER TABLE lay_depth RENAME TO old_lay_depth;\"\"\") # renaming the existing table because we dont want to have same name for the table with keys\n",
    "cur.execute(\"\"\"\n",
    "CREATE TABLE lay_depth\n",
    "(\n",
    " CELL_ID REAL,\n",
    " LAYER TEXT,\n",
    " DEPTH REAL,\n",
    " FOREIGN KEY (LAYER) REFERENCES lay_desc(LAYER),\n",
    " FOREIGN KEY (CELL_ID) REFERENCES grid_cell_desc(CELL_ID)\n",
    ");\n",
    "\"\"\") # Creating a table specifying primary key\n",
    "\n",
    "cur.execute(\"\"\"INSERT INTO lay_depth SELECT * FROM old_lay_depth;\"\"\") # copying the content of old table to new table\n",
    "cur.execute(\"\"\"DROP TABLE old_lay_depth \"\"\")#Syntax to Delete old table\n",
    "cur.execute(\"\"\"COMMIT;\"\"\") # closing the transaction by saving the changes"
   ]
  },
  {
   "cell_type": "markdown",
   "id": "b064eaf3",
   "metadata": {},
   "source": [
    "#QUERY FROM RELATIONAL DATABASE TO SEE IF TABLES ARE CONNECTED."
   ]
  },
  {
   "cell_type": "code",
   "execution_count": 38,
   "id": "9ca293c6",
   "metadata": {},
   "outputs": [
    {
     "name": "stderr",
     "output_type": "stream",
     "text": [
      "IOPub data rate exceeded.\n",
      "The notebook server will temporarily stop sending output\n",
      "to the client in order to avoid crashing it.\n",
      "To change this limit, set the config variable\n",
      "`--NotebookApp.iopub_data_rate_limit`.\n",
      "\n",
      "Current values:\n",
      "NotebookApp.iopub_data_rate_limit=1000000.0 (bytes/sec)\n",
      "NotebookApp.rate_limit_window=3.0 (secs)\n",
      "\n"
     ]
    }
   ],
   "source": [
    "query=cur.execute(\"\"\"SELECT * FROM grid_cell_desc,lay_depth WHERE grid_cell_desc.CELL_ID = 1001001\"\"\")\n",
    "\n",
    "results = cur.fetchall()\n",
    "\n",
    "print(results)"
   ]
  },
  {
   "cell_type": "code",
   "execution_count": 40,
   "id": "7331c2ea",
   "metadata": {},
   "outputs": [
    {
     "ename": "NameError",
     "evalue": "name 'NotebookApp' is not defined",
     "output_type": "error",
     "traceback": [
      "\u001b[1;31m---------------------------------------------------------------------------\u001b[0m",
      "\u001b[1;31mNameError\u001b[0m                                 Traceback (most recent call last)",
      "Input \u001b[1;32mIn [40]\u001b[0m, in \u001b[0;36m<cell line: 1>\u001b[1;34m()\u001b[0m\n\u001b[1;32m----> 1\u001b[0m \u001b[43mNotebookApp\u001b[49m\u001b[38;5;241m.\u001b[39miopub_data_rate_limit\u001b[38;5;241m=\u001b[39m\u001b[38;5;241m1.0e10\u001b[39m\n",
      "\u001b[1;31mNameError\u001b[0m: name 'NotebookApp' is not defined"
     ]
    }
   ],
   "source": [
    "NotebookApp.iopub_data_rate_limit=1.0e10"
   ]
  },
  {
   "cell_type": "code",
   "execution_count": 34,
   "id": "3d88d3b0",
   "metadata": {},
   "outputs": [],
   "source": [
    "# Importing Grid Shapefile\n",
    "# We got geo database package in our GAM files, we imported that to QGIS converted to ESRI SHapefile."
   ]
  },
  {
   "cell_type": "code",
   "execution_count": 32,
   "id": "e5603ee0",
   "metadata": {},
   "outputs": [
    {
     "data": {
      "text/plain": [
       "<Derived Projected CRS: PROJCS[\"GAM\",GEOGCS[\"NAD83\",DATUM[\"North_American_ ...>\n",
       "Name: GAM\n",
       "Axis Info [cartesian]:\n",
       "- [east]: Easting (US survey foot)\n",
       "- [north]: Northing (US survey foot)\n",
       "Area of Use:\n",
       "- undefined\n",
       "Coordinate Operation:\n",
       "- name: unnamed\n",
       "- method: Albers Equal Area\n",
       "Datum: North American Datum 1983\n",
       "- Ellipsoid: GRS 1980\n",
       "- Prime Meridian: Greenwich"
      ]
     },
     "execution_count": 32,
     "metadata": {},
     "output_type": "execute_result"
    },
    {
     "data": {
      "image/png": "[encoded data removed]",
      "text/plain": [
       "<Figure size 432x288 with 1 Axes>"
      ]
     },
     "metadata": {
      "needs_background": "light"
     },
     "output_type": "display_data"
    }
   ],
   "source": [
    "grid_f = 'D:\\\\Fall22\\\\Python\\\\Capstone-project-II\\\\GRID.zip'\n",
    "grid = gpd.read_file(grid_f)\n",
    "grid.plot()\n",
    "grid.crs"
   ]
  },
  {
   "cell_type": "code",
   "execution_count": 35,
   "id": "2caf568c",
   "metadata": {},
   "outputs": [],
   "source": [
    "tab4_new_col = ['StateWellNumber','County','Aquifer','LatitudeDD','LongitudeDD','WellDepth']\n",
    "Table4_1 = df3x.filter(tab4_new_col, axis=1)"
   ]
  },
  {
   "cell_type": "markdown",
   "id": "1a8b6482",
   "metadata": {},
   "source": [
    "# Creating a geometry column "
   ]
  },
  {
   "cell_type": "code",
   "execution_count": 36,
   "id": "fd700b5f",
   "metadata": {},
   "outputs": [],
   "source": [
    "geodf= gpd.GeoDataFrame(Table4_1, geometry=gpd.points_from_xy(Table4_1.LongitudeDD, Table4_1.LatitudeDD, crs=\"EPSG:4326\"))\n",
    "\n",
    "geo_c = geodf.to_crs(4269)\n",
    "type(geo_c)\n",
    "geo_c.crs\n",
    "geo_c.to_file(\"D:\\\\Fall22\\\\Python\\\\Capstone-project-II\\\\Nov_4\\\\Wellmain.shp\")"
   ]
  },
  {
   "cell_type": "code",
   "execution_count": 37,
   "id": "c1420bc3",
   "metadata": {},
   "outputs": [
    {
     "ename": "DriverError",
     "evalue": "'/vsizip/D:\\Fall22\\Python\\Capstone-project-II\\Nov_4\\WellMain.zip' not recognized as a supported file format.",
     "output_type": "error",
     "traceback": [
      "\u001b[1;31m---------------------------------------------------------------------------\u001b[0m",
      "\u001b[1;31mCPLE_OpenFailedError\u001b[0m                      Traceback (most recent call last)",
      "File \u001b[1;32mfiona\\_shim.pyx:83\u001b[0m, in \u001b[0;36mfiona._shim.gdal_open_vector\u001b[1;34m()\u001b[0m\n",
      "File \u001b[1;32mfiona\\_err.pyx:291\u001b[0m, in \u001b[0;36mfiona._err.exc_wrap_pointer\u001b[1;34m()\u001b[0m\n",
      "\u001b[1;31mCPLE_OpenFailedError\u001b[0m: '/vsizip/D:\\Fall22\\Python\\Capstone-project-II\\Nov_4\\WellMain.zip' not recognized as a supported file format.",
      "\nDuring handling of the above exception, another exception occurred:\n",
      "\u001b[1;31mDriverError\u001b[0m                               Traceback (most recent call last)",
      "Input \u001b[1;32mIn [37]\u001b[0m, in \u001b[0;36m<cell line: 1>\u001b[1;34m()\u001b[0m\n\u001b[1;32m----> 1\u001b[0m girid \u001b[38;5;241m=\u001b[39m \u001b[43mgpd\u001b[49m\u001b[38;5;241;43m.\u001b[39;49m\u001b[43mread_file\u001b[49m\u001b[43m(\u001b[49m\u001b[38;5;124;43m'\u001b[39;49m\u001b[38;5;124;43mD:\u001b[39;49m\u001b[38;5;130;43;01m\\\\\u001b[39;49;00m\u001b[38;5;124;43mFall22\u001b[39;49m\u001b[38;5;130;43;01m\\\\\u001b[39;49;00m\u001b[38;5;124;43mPython\u001b[39;49m\u001b[38;5;130;43;01m\\\\\u001b[39;49;00m\u001b[38;5;124;43mCapstone-project-II\u001b[39;49m\u001b[38;5;130;43;01m\\\\\u001b[39;49;00m\u001b[38;5;124;43mNov_4\u001b[39;49m\u001b[38;5;130;43;01m\\\\\u001b[39;49;00m\u001b[38;5;124;43mWellMain.zip\u001b[39;49m\u001b[38;5;124;43m'\u001b[39;49m\u001b[43m)\u001b[49m\n\u001b[0;32m      2\u001b[0m \u001b[38;5;28mtype\u001b[39m(girid)\n\u001b[0;32m      3\u001b[0m girid\u001b[38;5;241m.\u001b[39mcrs\n",
      "File \u001b[1;32m~\\anaconda3\\lib\\site-packages\\geopandas\\io\\file.py:259\u001b[0m, in \u001b[0;36m_read_file\u001b[1;34m(filename, bbox, mask, rows, engine, **kwargs)\u001b[0m\n\u001b[0;32m    256\u001b[0m     path_or_bytes \u001b[38;5;241m=\u001b[39m filename\n\u001b[0;32m    258\u001b[0m \u001b[38;5;28;01mif\u001b[39;00m engine \u001b[38;5;241m==\u001b[39m \u001b[38;5;124m\"\u001b[39m\u001b[38;5;124mfiona\u001b[39m\u001b[38;5;124m\"\u001b[39m:\n\u001b[1;32m--> 259\u001b[0m     \u001b[38;5;28;01mreturn\u001b[39;00m _read_file_fiona(\n\u001b[0;32m    260\u001b[0m         path_or_bytes, from_bytes, bbox\u001b[38;5;241m=\u001b[39mbbox, mask\u001b[38;5;241m=\u001b[39mmask, rows\u001b[38;5;241m=\u001b[39mrows, \u001b[38;5;241m*\u001b[39m\u001b[38;5;241m*\u001b[39mkwargs\n\u001b[0;32m    261\u001b[0m     )\n\u001b[0;32m    262\u001b[0m \u001b[38;5;28;01melif\u001b[39;00m engine \u001b[38;5;241m==\u001b[39m \u001b[38;5;124m\"\u001b[39m\u001b[38;5;124mpyogrio\u001b[39m\u001b[38;5;124m\"\u001b[39m:\n\u001b[0;32m    263\u001b[0m     \u001b[38;5;28;01mreturn\u001b[39;00m _read_file_pyogrio(\n\u001b[0;32m    264\u001b[0m         path_or_bytes, bbox\u001b[38;5;241m=\u001b[39mbbox, mask\u001b[38;5;241m=\u001b[39mmask, rows\u001b[38;5;241m=\u001b[39mrows, \u001b[38;5;241m*\u001b[39m\u001b[38;5;241m*\u001b[39mkwargs\n\u001b[0;32m    265\u001b[0m     )\n",
      "File \u001b[1;32m~\\anaconda3\\lib\\site-packages\\geopandas\\io\\file.py:303\u001b[0m, in \u001b[0;36m_read_file_fiona\u001b[1;34m(path_or_bytes, from_bytes, bbox, mask, rows, where, **kwargs)\u001b[0m\n\u001b[0;32m    300\u001b[0m     reader \u001b[38;5;241m=\u001b[39m fiona\u001b[38;5;241m.\u001b[39mopen\n\u001b[0;32m    302\u001b[0m \u001b[38;5;28;01mwith\u001b[39;00m fiona_env():\n\u001b[1;32m--> 303\u001b[0m     \u001b[38;5;28;01mwith\u001b[39;00m reader(path_or_bytes, \u001b[38;5;241m*\u001b[39m\u001b[38;5;241m*\u001b[39mkwargs) \u001b[38;5;28;01mas\u001b[39;00m features:\n\u001b[0;32m    304\u001b[0m         crs \u001b[38;5;241m=\u001b[39m features\u001b[38;5;241m.\u001b[39mcrs_wkt\n\u001b[0;32m    305\u001b[0m         \u001b[38;5;66;03m# attempt to get EPSG code\u001b[39;00m\n",
      "File \u001b[1;32m~\\anaconda3\\lib\\site-packages\\fiona\\env.py:408\u001b[0m, in \u001b[0;36mensure_env_with_credentials.<locals>.wrapper\u001b[1;34m(*args, **kwargs)\u001b[0m\n\u001b[0;32m    405\u001b[0m \u001b[38;5;129m@wraps\u001b[39m(f)\n\u001b[0;32m    406\u001b[0m \u001b[38;5;28;01mdef\u001b[39;00m \u001b[38;5;21mwrapper\u001b[39m(\u001b[38;5;241m*\u001b[39margs, \u001b[38;5;241m*\u001b[39m\u001b[38;5;241m*\u001b[39mkwargs):\n\u001b[0;32m    407\u001b[0m     \u001b[38;5;28;01mif\u001b[39;00m local\u001b[38;5;241m.\u001b[39m_env:\n\u001b[1;32m--> 408\u001b[0m         \u001b[38;5;28;01mreturn\u001b[39;00m f(\u001b[38;5;241m*\u001b[39margs, \u001b[38;5;241m*\u001b[39m\u001b[38;5;241m*\u001b[39mkwargs)\n\u001b[0;32m    409\u001b[0m     \u001b[38;5;28;01melse\u001b[39;00m:\n\u001b[0;32m    410\u001b[0m         \u001b[38;5;28;01mif\u001b[39;00m \u001b[38;5;28misinstance\u001b[39m(args[\u001b[38;5;241m0\u001b[39m], \u001b[38;5;28mstr\u001b[39m):\n",
      "File \u001b[1;32m~\\anaconda3\\lib\\site-packages\\fiona\\__init__.py:286\u001b[0m, in \u001b[0;36mopen\u001b[1;34m(fp, mode, driver, schema, crs, encoding, layer, vfs, enabled_drivers, crs_wkt, **kwargs)\u001b[0m\n\u001b[0;32m    283\u001b[0m     path \u001b[38;5;241m=\u001b[39m parse_path(fp)\n\u001b[0;32m    285\u001b[0m \u001b[38;5;28;01mif\u001b[39;00m mode \u001b[38;5;129;01min\u001b[39;00m (\u001b[38;5;124m'\u001b[39m\u001b[38;5;124ma\u001b[39m\u001b[38;5;124m'\u001b[39m, \u001b[38;5;124m'\u001b[39m\u001b[38;5;124mr\u001b[39m\u001b[38;5;124m'\u001b[39m):\n\u001b[1;32m--> 286\u001b[0m     c \u001b[38;5;241m=\u001b[39m Collection(path, mode, driver\u001b[38;5;241m=\u001b[39mdriver, encoding\u001b[38;5;241m=\u001b[39mencoding,\n\u001b[0;32m    287\u001b[0m                    layer\u001b[38;5;241m=\u001b[39mlayer, enabled_drivers\u001b[38;5;241m=\u001b[39menabled_drivers, \u001b[38;5;241m*\u001b[39m\u001b[38;5;241m*\u001b[39mkwargs)\n\u001b[0;32m    288\u001b[0m \u001b[38;5;28;01melif\u001b[39;00m mode \u001b[38;5;241m==\u001b[39m \u001b[38;5;124m'\u001b[39m\u001b[38;5;124mw\u001b[39m\u001b[38;5;124m'\u001b[39m:\n\u001b[0;32m    289\u001b[0m     \u001b[38;5;28;01mif\u001b[39;00m schema:\n\u001b[0;32m    290\u001b[0m         \u001b[38;5;66;03m# Make an ordered dict of schema properties.\u001b[39;00m\n",
      "File \u001b[1;32m~\\anaconda3\\lib\\site-packages\\fiona\\collection.py:162\u001b[0m, in \u001b[0;36mCollection.__init__\u001b[1;34m(self, path, mode, driver, schema, crs, encoding, layer, vsi, archive, enabled_drivers, crs_wkt, ignore_fields, ignore_geometry, **kwargs)\u001b[0m\n\u001b[0;32m    160\u001b[0m \u001b[38;5;28;01mif\u001b[39;00m \u001b[38;5;28mself\u001b[39m\u001b[38;5;241m.\u001b[39mmode \u001b[38;5;241m==\u001b[39m \u001b[38;5;124m'\u001b[39m\u001b[38;5;124mr\u001b[39m\u001b[38;5;124m'\u001b[39m:\n\u001b[0;32m    161\u001b[0m     \u001b[38;5;28mself\u001b[39m\u001b[38;5;241m.\u001b[39msession \u001b[38;5;241m=\u001b[39m Session()\n\u001b[1;32m--> 162\u001b[0m     \u001b[38;5;28mself\u001b[39m\u001b[38;5;241m.\u001b[39msession\u001b[38;5;241m.\u001b[39mstart(\u001b[38;5;28mself\u001b[39m, \u001b[38;5;241m*\u001b[39m\u001b[38;5;241m*\u001b[39mkwargs)\n\u001b[0;32m    163\u001b[0m \u001b[38;5;28;01melif\u001b[39;00m \u001b[38;5;28mself\u001b[39m\u001b[38;5;241m.\u001b[39mmode \u001b[38;5;129;01min\u001b[39;00m (\u001b[38;5;124m'\u001b[39m\u001b[38;5;124ma\u001b[39m\u001b[38;5;124m'\u001b[39m, \u001b[38;5;124m'\u001b[39m\u001b[38;5;124mw\u001b[39m\u001b[38;5;124m'\u001b[39m):\n\u001b[0;32m    164\u001b[0m     \u001b[38;5;28mself\u001b[39m\u001b[38;5;241m.\u001b[39msession \u001b[38;5;241m=\u001b[39m WritingSession()\n",
      "File \u001b[1;32mfiona\\ogrext.pyx:540\u001b[0m, in \u001b[0;36mfiona.ogrext.Session.start\u001b[1;34m()\u001b[0m\n",
      "File \u001b[1;32mfiona\\_shim.pyx:90\u001b[0m, in \u001b[0;36mfiona._shim.gdal_open_vector\u001b[1;34m()\u001b[0m\n",
      "\u001b[1;31mDriverError\u001b[0m: '/vsizip/D:\\Fall22\\Python\\Capstone-project-II\\Nov_4\\WellMain.zip' not recognized as a supported file format."
     ]
    }
   ],
   "source": [
    "girid = gpd.read_file('D:\\\\Fall22\\\\Python\\\\Capstone-project-II\\\\Nov_4\\\\WellMain.zip')\n",
    "type(girid)\n",
    "girid.crs\n",
    "girid\n",
    "\n",
    "grid_left_df = girid.sjoin(Table3, how=\"left\")"
   ]
  },
  {
   "cell_type": "code",
   "execution_count": null,
   "id": "35b6e3ae",
   "metadata": {},
   "outputs": [],
   "source": []
  },
  {
   "cell_type": "code",
   "execution_count": null,
   "id": "4fea9e6d",
   "metadata": {},
   "outputs": [],
   "source": []
  }
 ],
 "metadata": {
  "kernelspec": {
   "display_name": "Python 3 (ipykernel)",
   "language": "python",
   "name": "python3"
  },
  "language_info": {
   "codemirror_mode": {
    "name": "ipython",
    "version": 3
   },
   "file_extension": ".py",
   "mimetype": "text/x-python",
   "name": "python",
   "nbconvert_exporter": "python",
   "pygments_lexer": "ipython3",
   "version": "3.9.12"
  }
 },
 "nbformat": 4,
 "nbformat_minor": 5
}
