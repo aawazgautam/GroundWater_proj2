{
 "cells": [
  {
   "cell_type": "markdown",
   "id": "aebe6601",
   "metadata": {},
   "source": [
    "<center> <h1> <font color='Green'> GREEN TEAM <font> </h1> </center>"
   ]
  },
  {
   "cell_type": "markdown",
   "id": "d9a9c074",
   "metadata": {},
   "source": [
    "<h3><center><font color='GREEN'> 1. AAWAZ GAUTAM, 2. SONJOY PAUL AVI, 3. DHARMIK PATEL</font></center></h3>"
   ]
  },
  {
   "cell_type": "markdown",
   "id": "fb9ede0e",
   "metadata": {},
   "source": [
    "<h3><center><font color='GREEN'>PROJECT ASSIGNMENT: ANALYSING AQUIFER AND GROUND WATER LEVEL OF SOUTHEST TEXAS</font></center></h3>"
   ]
  },
  {
   "cell_type": "markdown",
   "id": "86b39991",
   "metadata": {},
   "source": [
    "<p> Aquifer: Aquifer is a body of porous rock or sediment saturated with groundwater.\n",
    "    There are two types of aquifer 1. Unconfined, 2. Confined</p>\n",
    "\n",
    "<p> According to United States Geological Survey (USGS) figures, groundwater provides an estimated:\n",
    "    1. 22% of all freshwater withdrawals.\n",
    "    2. 37% of agricultural use (mostly for irrigation).\n",
    "    3. 37% of the public water supply withdrawals.\n",
    "    4. 51% of all drinking water for the total population.\n",
    "    5. 99% of drinking water for the rural population . </p>\n",
    "\n",
    "<p> <font> In this notebook we want to work with the data from GAM model, MOD Flow and HAGM model. We want to create a relational database and then graphically plot maps using those data. The potential areas could be aquifer depth change, water quality, etc</p>\n",
    "<p>           </p>"
   ]
  },
  {
   "cell_type": "code",
   "execution_count": null,
   "id": "58fd6c3c",
   "metadata": {},
   "outputs": [],
   "source": [
    "#Sources:\n",
    "https://www.youtube.com/watch?v=S4Udx3c7LlQ\n"
   ]
  },
  {
   "cell_type": "markdown",
   "id": "937913a4",
   "metadata": {},
   "source": [
    "<h4><font color='GREEN'> Load Libraries </font> </h4>"
   ]
  },
  {
   "cell_type": "code",
   "execution_count": 1,
   "id": "5a81ddff",
   "metadata": {},
   "outputs": [],
   "source": [
    "# To hide warning sign not appear\n",
    "import warnings\n",
    "warnings.filterwarnings(\"ignore\")"
   ]
  },
  {
   "cell_type": "code",
   "execution_count": 2,
   "id": "88cc0498",
   "metadata": {},
   "outputs": [],
   "source": [
    "#importing numpy library\n",
    "import numpy as np"
   ]
  },
  {
   "cell_type": "markdown",
   "id": "3ff2e778",
   "metadata": {},
   "source": [
    "<h4><font color='GREEN'> Importing the data from HAGM and from '.dis'(disintegration) file. </font> </h4>\n",
    "Source: USGS Oklahoma-Texas Water Science Center. \n",
    "\n",
    "This MODFLOW2000 Discretization file has a flat file data representing 4 layer of aquifer on a grid of 137 rows and 245 columns. Initial data  10 columns and 17125 rows. This file stores the data of 5 layer(4top 1bottom) of 4 aquifers(Chicot, Evangeline, Burkeville and Jasper).\n",
    "#We used numpy matrix shaping feature to seperate this flat datafile to retain the data for individual aquifer."
   ]
  },
  {
   "cell_type": "code",
   "execution_count": 22,
   "id": "3e364628",
   "metadata": {},
   "outputs": [
    {
     "data": {
      "text/plain": [
       "array([[-10000., -10000., -10000., ..., -10000., -10000., -10000.],\n",
       "       [-10000., -10000., -10000., ..., -10000., -10000., -10000.],\n",
       "       [-10000., -10000., -10000., ..., -10000., -10000., -10000.],\n",
       "       ...,\n",
       "       [-10000., -10000., -10000., ..., -10000., -10000., -10000.],\n",
       "       [-10000., -10000., -10000., ..., -10000., -10000., -10000.],\n",
       "       [-10000., -10000., -10000., ...,     nan,     nan,     nan]])"
      ]
     },
     "execution_count": 22,
     "metadata": {},
     "output_type": "execute_result"
    }
   ],
   "source": [
    "a=np.genfromtxt('D:\\\\Fall22\\\\Python\\\\Capstone-project-II\\\\Nov_4\\\\Data_HAGM2013.csv', delimiter=',')\n",
    "a# The shape of this file is initially 17125 x 10."
   ]
  },
  {
   "cell_type": "markdown",
   "id": "ec7c3c60",
   "metadata": {},
   "source": [
    "<h4><font> Reshaping the existing data to the form of 5 layers for 137 rows and 245 columns </font> </h4>"
   ]
  },
  {
   "cell_type": "markdown",
   "id": "0e779044",
   "metadata": {},
   "source": [
    "b=a.reshape(5,137,250)"
   ]
  },
  {
   "cell_type": "markdown",
   "id": "eba6bd95",
   "metadata": {},
   "source": [
    "<h4><font color='GREEN'> Separating the depth location of 5 layers for the 4 aquifers and also removing column having 'nan' value </font> </h4>"
   ]
  },
  {
   "cell_type": "markdown",
   "id": "fd2fef29",
   "metadata": {},
   "source": [
    "l1 = b[0][0:137,0:245]\n",
    "l2 = b[1][0:137,0:245]\n",
    "l3 = b[2][0:137,0:245]\n",
    "l4 = b[3][0:137,0:245]\n",
    "l5 = b[4][0:137,0:245]"
   ]
  },
  {
   "cell_type": "markdown",
   "id": "9732abf2",
   "metadata": {},
   "source": [
    "We dealt with the rows and columns tabular data having numerical and string values"
   ]
  },
  {
   "cell_type": "markdown",
   "id": "938ff3fb",
   "metadata": {},
   "source": [
    "<h4><font color='GREEN'> Creating List table of databas that has Cell ID, ROW No, Col No, and the depth at which 4 tops of the aquifer exists and a bottom exists </font> </h4>"
   ]
  },
  {
   "cell_type": "code",
   "execution_count": 36,
   "id": "10e0a3ca",
   "metadata": {},
   "outputs": [],
   "source": [
    "# Importing Pandas library \n",
    "#** We have to deal with the rows and columns tabular datas having numerical and string values\n",
    "import pandas as pd"
   ]
  },
  {
   "cell_type": "markdown",
   "id": "d870a171",
   "metadata": {},
   "source": [
    "Table1 = pd.DataFrame(columns=['CELL_ID', 'L1', 'L2', 'L3','L4', 'L5'])\n",
    "Table2 = pd.DataFrame(columns=['CELL_ID', 'ROW', 'COL'])"
   ]
  },
  {
   "cell_type": "markdown",
   "id": "ec79f8ed",
   "metadata": {},
   "source": [
    "<h4><font color='GREEN'> Defining a range of numbers for rows number and column numbers and using a loop </font> </h4>\n",
    "\n",
    "#The CELL_ID is the unique IDENTITY Number of each GRID and it is in the formula of: 10^6 + 10^3 Row No + Col No "
   ]
  },
  {
   "cell_type": "markdown",
   "id": "15ce99f8",
   "metadata": {
    "scrolled": false
   },
   "source": [
    "r1 = range(0,137)\n",
    "r2 = range(0,245)\n",
    "for i in r1:\n",
    "    for j in r2:\n",
    "        c=pow(10,6)+pow(10,3)*(i+1)+(j+1)\n",
    "        tab1_col = {'CELL_ID':c, 'L1': l1[i,j], 'L2': l2[i,j], 'L3': l3[i,j], 'L4': l4[i,j], 'L5': l5[i,j]}\n",
    "        tab2_col = {'CELL_ID':c,'ROW': i+1, 'COL': j+1 }\n",
    "        Table1 = Table1.append(tab1_col, ignore_index = True)\n",
    "        Table2 = Table2.append(tab2_col, ignore_index = True)"
   ]
  },
  {
   "cell_type": "markdown",
   "id": "25a92920",
   "metadata": {},
   "source": [
    "#Saving grid_info.csv-Table 1\n",
    "Table2.to_csv(path_or_buf='D:\\\\Fall22\\\\Python\\\\Capstone-project-II\\\\Nov_4\\\\Tables\\\\grid_info.csv',index=False)"
   ]
  },
  {
   "cell_type": "markdown",
   "id": "eaf2a97f",
   "metadata": {},
   "source": [
    "<h4><font color='GREEN'>DATABASE TABLE: Creating the table that will be going to our database.</font> </h4>\n",
    "#The table name on database is 'lay_depth' has 3 columns CELL_ID, LAYER, DEPTH. "
   ]
  },
  {
   "cell_type": "markdown",
   "id": "ba60fb79",
   "metadata": {},
   "source": [
    "lay=['L1', 'L2', 'L3', 'L4', 'L5']\n",
    "Table1_new = pd.DataFrame(columns=['CELL_ID', 'LAYER', 'DEPTH'])\n",
    "r3=range(0,len(Table1))\n",
    "k=k1=0\n",
    "for k in r3:\n",
    "    temp=[Table1.L1[k], Table1.L2[k], Table1.L3[k], Table1.L4[k], Table1.L5[k]]\n",
    "    for k1 in range(0,5):\n",
    "        tab1new = {'CELL_ID':Table1.CELL_ID[k],'LAYER': lay[k1], 'DEPTH': temp[k1] }\n",
    "        Table1_new = Table1_new.append(tab1new, ignore_index = True)"
   ]
  },
  {
   "cell_type": "markdown",
   "id": "36b1bc21",
   "metadata": {},
   "source": [
    "#Saving lay_depth.csv - Table2\n",
    "Table1_new.to_csv(path_or_buf='D:\\\\Fall22\\\\Python\\\\Capstone-project-II\\\\Nov_4\\\\Tables\\\\lay_depth.csv',index=False)"
   ]
  },
  {
   "cell_type": "markdown",
   "id": "aacd4193",
   "metadata": {},
   "source": [
    "This is an index table created that has the layer index and its description."
   ]
  },
  {
   "cell_type": "code",
   "execution_count": null,
   "id": "651e0ba6",
   "metadata": {},
   "outputs": [],
   "source": [
    "TableX = pd.DataFrame(columns=['Layer', 'Description'])\n",
    "TableX = TableX.append({'Layer':'L1', 'Description': 'Chicot Top'}, ignore_index = True)\n",
    "TableX = TableX.append({'Layer':'L2', 'Description': 'Evangeline Top'}, ignore_index = True)\n",
    "TableX = TableX.append({'Layer':'L3', 'Description': 'Burkeville Top'}, ignore_index = True)\n",
    "TableX = TableX.append({'Layer':'L4', 'Description': 'Jasper Top'}, ignore_index = True)\n",
    "TableX = TableX.append({'Layer':'L5', 'Description': 'Jasper Bottom'}, ignore_index = True)"
   ]
  },
  {
   "cell_type": "markdown",
   "id": "becb9372",
   "metadata": {},
   "source": [
    "TableX\n",
    "#Saving Table 2 as csv.\n",
    "TableX.to_csv(path_or_buf='D:\\\\Fall22\\\\Python\\\\Capstone-project-II\\\\Nov_4\\\\Tables\\\\layer_info.csv',index=False)"
   ]
  },
  {
   "cell_type": "markdown",
   "id": "fc905477",
   "metadata": {},
   "source": [
    "At this point we have imported raw data and built it up to tables now to clean up the memory we restart the kernel and then import the libraries and then the previously built tables "
   ]
  },
  {
   "cell_type": "markdown",
   "id": "fd7ed0c2",
   "metadata": {},
   "source": [
    "<h4><font color='GREEN'>Importing the tables.</font> </h4>"
   ]
  },
  {
   "cell_type": "code",
   "execution_count": 4,
   "id": "427d3054",
   "metadata": {},
   "outputs": [],
   "source": [
    "grid_info = pd.read_csv(\"D:\\\\Fall22\\\\Python\\\\Capstone-project-II\\\\Nov_4\\\\Tables\\\\grid_info.csv\")\n",
    "lay_depth = pd.read_csv(\"D:\\\\Fall22\\\\Python\\\\Capstone-project-II\\\\Nov_4\\\\Tables\\\\lay_depth.csv\")\n",
    "layer_info = pd.read_csv(\"D:\\\\Fall22\\\\Python\\\\Capstone-project-II\\\\Nov_4\\\\Tables\\\\layer_info.csv\")"
   ]
  },
  {
   "cell_type": "markdown",
   "id": "ee5e971e",
   "metadata": {},
   "source": [
    "<h4><font color='GREEN'>USING GEOPANDAS TO IMPORT SHAPE FILES OF GRID</font> </h4>\n",
    "#We import shape files of grid(saved as from geo data base) because we want to preserve geometry of grid in our codes"
   ]
  },
  {
   "cell_type": "code",
   "execution_count": 7,
   "id": "6a6fc434",
   "metadata": {},
   "outputs": [],
   "source": [
    "# Importing GeoPandas library  \n",
    "# We import shape files of grid(saved as from geo data base) because we want to preserve geometry of grid in our codes.\n",
    "import geopandas as gpd"
   ]
  },
  {
   "cell_type": "markdown",
   "id": "165a1da5",
   "metadata": {},
   "source": [
    "<h4><font color='GREEN'>Importing Well Main Table(Ground Water Database) from Texas Water Development Board.</font> </h4>"
   ]
  },
  {
   "cell_type": "code",
   "execution_count": 45,
   "id": "ad652bfa",
   "metadata": {},
   "outputs": [
    {
     "data": {
      "text/html": [
       "<div>\n",
       "<style scoped>\n",
       "    .dataframe tbody tr th:only-of-type {\n",
       "        vertical-align: middle;\n",
       "    }\n",
       "\n",
       "    .dataframe tbody tr th {\n",
       "        vertical-align: top;\n",
       "    }\n",
       "\n",
       "    .dataframe thead th {\n",
       "        text-align: right;\n",
       "    }\n",
       "</style>\n",
       "<table border=\"1\" class=\"dataframe\">\n",
       "  <thead>\n",
       "    <tr style=\"text-align: right;\">\n",
       "      <th></th>\n",
       "      <th>StateWellNumber</th>\n",
       "      <th>County</th>\n",
       "      <th>AquiferCode</th>\n",
       "      <th>Aquifer</th>\n",
       "      <th>LatitudeDD</th>\n",
       "      <th>LongitudeDD</th>\n",
       "      <th>WellDepth</th>\n",
       "      <th>LandSurfaceElevation</th>\n",
       "      <th>geometry</th>\n",
       "    </tr>\n",
       "  </thead>\n",
       "  <tbody>\n",
       "    <tr>\n",
       "      <th>0</th>\n",
       "      <td>140301</td>\n",
       "      <td>Dallam</td>\n",
       "      <td>121OGDP</td>\n",
       "      <td>Ogallala/Rita Blanca</td>\n",
       "      <td>36.493333</td>\n",
       "      <td>-103.039167</td>\n",
       "      <td>470.0</td>\n",
       "      <td>4702.0</td>\n",
       "      <td>POINT (-103.03917 36.49333)</td>\n",
       "    </tr>\n",
       "    <tr>\n",
       "      <th>1</th>\n",
       "      <td>140302</td>\n",
       "      <td>Dallam</td>\n",
       "      <td>121OGDP</td>\n",
       "      <td>Ogallala/Rita Blanca</td>\n",
       "      <td>36.467500</td>\n",
       "      <td>-103.004445</td>\n",
       "      <td>180.0</td>\n",
       "      <td>4644.0</td>\n",
       "      <td>POINT (-103.00445 36.46750)</td>\n",
       "    </tr>\n",
       "    <tr>\n",
       "      <th>2</th>\n",
       "      <td>140601</td>\n",
       "      <td>Dallam</td>\n",
       "      <td>211DKOP</td>\n",
       "      <td>Rita Blanca</td>\n",
       "      <td>36.435000</td>\n",
       "      <td>-103.021389</td>\n",
       "      <td>390.0</td>\n",
       "      <td>4692.0</td>\n",
       "      <td>POINT (-103.02139 36.43500)</td>\n",
       "    </tr>\n",
       "    <tr>\n",
       "      <th>3</th>\n",
       "      <td>140901</td>\n",
       "      <td>Dallam</td>\n",
       "      <td>121OGLL</td>\n",
       "      <td>Ogallala</td>\n",
       "      <td>36.383611</td>\n",
       "      <td>-103.015000</td>\n",
       "      <td>346.0</td>\n",
       "      <td>4669.0</td>\n",
       "      <td>POINT (-103.01500 36.38361)</td>\n",
       "    </tr>\n",
       "    <tr>\n",
       "      <th>4</th>\n",
       "      <td>140902</td>\n",
       "      <td>Dallam</td>\n",
       "      <td>121OGLD</td>\n",
       "      <td>Ogallala/Rita Blanca</td>\n",
       "      <td>36.408333</td>\n",
       "      <td>-103.036944</td>\n",
       "      <td>160.0</td>\n",
       "      <td>4690.0</td>\n",
       "      <td>POINT (-103.03694 36.40833)</td>\n",
       "    </tr>\n",
       "  </tbody>\n",
       "</table>\n",
       "</div>"
      ],
      "text/plain": [
       "   StateWellNumber  County AquiferCode               Aquifer  LatitudeDD  \\\n",
       "0           140301  Dallam     121OGDP  Ogallala/Rita Blanca   36.493333   \n",
       "1           140302  Dallam     121OGDP  Ogallala/Rita Blanca   36.467500   \n",
       "2           140601  Dallam     211DKOP           Rita Blanca   36.435000   \n",
       "3           140901  Dallam     121OGLL              Ogallala   36.383611   \n",
       "4           140902  Dallam     121OGLD  Ogallala/Rita Blanca   36.408333   \n",
       "\n",
       "   LongitudeDD  WellDepth  LandSurfaceElevation                     geometry  \n",
       "0  -103.039167      470.0                4702.0  POINT (-103.03917 36.49333)  \n",
       "1  -103.004445      180.0                4644.0  POINT (-103.00445 36.46750)  \n",
       "2  -103.021389      390.0                4692.0  POINT (-103.02139 36.43500)  \n",
       "3  -103.015000      346.0                4669.0  POINT (-103.01500 36.38361)  \n",
       "4  -103.036944      160.0                4690.0  POINT (-103.03694 36.40833)  "
      ]
     },
     "execution_count": 45,
     "metadata": {},
     "output_type": "execute_result"
    }
   ],
   "source": [
    "df_wm = pd.read_csv(\"D:\\\\Fall22\\\\Python\\\\Capstone-project-II\\\\Nov_4\\\\inputs\\\\WellMain.csv\", usecols = ['StateWellNumber','County','AquiferCode','Aquifer','LatitudeDD','LongitudeDD','WellDepth','LandSurfaceElevation'])\n",
    "# Creating a geometry column \n",
    "geodf= gpd.GeoDataFrame(df_wm, geometry=gpd.points_from_xy(df_wm.LongitudeDD, df_wm.LatitudeDD, crs=\"EPSG:4326\"))# WGS84 System: crs='EPSG:4326'\n",
    "well_main = geodf.to_crs(4269) # NAD83 System: crs='EPSG:4269'\n",
    "well_main.head()"
   ]
  },
  {
   "cell_type": "code",
   "execution_count": 44,
   "id": "cb2027f0",
   "metadata": {
    "scrolled": true
   },
   "outputs": [
    {
     "data": {
      "text/html": [
       "<div>\n",
       "<style scoped>\n",
       "    .dataframe tbody tr th:only-of-type {\n",
       "        vertical-align: middle;\n",
       "    }\n",
       "\n",
       "    .dataframe tbody tr th {\n",
       "        vertical-align: top;\n",
       "    }\n",
       "\n",
       "    .dataframe thead th {\n",
       "        text-align: right;\n",
       "    }\n",
       "</style>\n",
       "<table border=\"1\" class=\"dataframe\">\n",
       "  <thead>\n",
       "    <tr style=\"text-align: right;\">\n",
       "      <th></th>\n",
       "      <th>CELL_ID</th>\n",
       "      <th>CountyName</th>\n",
       "      <th>CountyNum</th>\n",
       "      <th>CentroidX</th>\n",
       "      <th>CentroidY</th>\n",
       "      <th>AQ_Active1</th>\n",
       "      <th>AQ_Active2</th>\n",
       "      <th>AQ_Active3</th>\n",
       "      <th>AQ_Active4</th>\n",
       "      <th>geometry</th>\n",
       "    </tr>\n",
       "  </thead>\n",
       "  <tbody>\n",
       "    <tr>\n",
       "      <th>0</th>\n",
       "      <td>1001001</td>\n",
       "      <td>Caldwell</td>\n",
       "      <td>28</td>\n",
       "      <td>5.737261e+06</td>\n",
       "      <td>1.915459e+07</td>\n",
       "      <td>0</td>\n",
       "      <td>0</td>\n",
       "      <td>0</td>\n",
       "      <td>0</td>\n",
       "      <td>POLYGON ((-97.43502 29.77012, -97.42158 29.778...</td>\n",
       "    </tr>\n",
       "    <tr>\n",
       "      <th>1</th>\n",
       "      <td>1001002</td>\n",
       "      <td>Caldwell</td>\n",
       "      <td>28</td>\n",
       "      <td>5.741444e+06</td>\n",
       "      <td>1.915782e+07</td>\n",
       "      <td>0</td>\n",
       "      <td>0</td>\n",
       "      <td>0</td>\n",
       "      <td>0</td>\n",
       "      <td>POLYGON ((-97.42158 29.77869, -97.40814 29.787...</td>\n",
       "    </tr>\n",
       "    <tr>\n",
       "      <th>2</th>\n",
       "      <td>1001003</td>\n",
       "      <td>Caldwell</td>\n",
       "      <td>28</td>\n",
       "      <td>5.745627e+06</td>\n",
       "      <td>1.916104e+07</td>\n",
       "      <td>0</td>\n",
       "      <td>0</td>\n",
       "      <td>0</td>\n",
       "      <td>0</td>\n",
       "      <td>POLYGON ((-97.40814 29.78727, -97.39469 29.795...</td>\n",
       "    </tr>\n",
       "    <tr>\n",
       "      <th>3</th>\n",
       "      <td>1001004</td>\n",
       "      <td>Caldwell</td>\n",
       "      <td>28</td>\n",
       "      <td>5.749810e+06</td>\n",
       "      <td>1.916426e+07</td>\n",
       "      <td>0</td>\n",
       "      <td>0</td>\n",
       "      <td>0</td>\n",
       "      <td>0</td>\n",
       "      <td>POLYGON ((-97.39469 29.79584, -97.38124 29.804...</td>\n",
       "    </tr>\n",
       "    <tr>\n",
       "      <th>4</th>\n",
       "      <td>1001005</td>\n",
       "      <td>Caldwell</td>\n",
       "      <td>28</td>\n",
       "      <td>5.753994e+06</td>\n",
       "      <td>1.916748e+07</td>\n",
       "      <td>0</td>\n",
       "      <td>0</td>\n",
       "      <td>0</td>\n",
       "      <td>0</td>\n",
       "      <td>POLYGON ((-97.38124 29.80441, -97.36779 29.812...</td>\n",
       "    </tr>\n",
       "  </tbody>\n",
       "</table>\n",
       "</div>"
      ],
      "text/plain": [
       "   CELL_ID CountyName  CountyNum     CentroidX     CentroidY  AQ_Active1  \\\n",
       "0  1001001   Caldwell         28  5.737261e+06  1.915459e+07           0   \n",
       "1  1001002   Caldwell         28  5.741444e+06  1.915782e+07           0   \n",
       "2  1001003   Caldwell         28  5.745627e+06  1.916104e+07           0   \n",
       "3  1001004   Caldwell         28  5.749810e+06  1.916426e+07           0   \n",
       "4  1001005   Caldwell         28  5.753994e+06  1.916748e+07           0   \n",
       "\n",
       "   AQ_Active2  AQ_Active3  AQ_Active4  \\\n",
       "0           0           0           0   \n",
       "1           0           0           0   \n",
       "2           0           0           0   \n",
       "3           0           0           0   \n",
       "4           0           0           0   \n",
       "\n",
       "                                            geometry  \n",
       "0  POLYGON ((-97.43502 29.77012, -97.42158 29.778...  \n",
       "1  POLYGON ((-97.42158 29.77869, -97.40814 29.787...  \n",
       "2  POLYGON ((-97.40814 29.78727, -97.39469 29.795...  \n",
       "3  POLYGON ((-97.39469 29.79584, -97.38124 29.804...  \n",
       "4  POLYGON ((-97.38124 29.80441, -97.36779 29.812...  "
      ]
     },
     "execution_count": 44,
     "metadata": {},
     "output_type": "execute_result"
    }
   ],
   "source": [
    "df2 = gpd.read_file('D:\\\\Fall22\\\\Python\\\\Capstone-project-II\\\\Nov_4\\\\inputs\\\\GRID.zip')   # shape file of grid\n",
    "tab3_rem_col = ['CELL_ID','CountyName','CountyNum','CentroidX','CentroidY','AQ_Active1','AQ_Active2','AQ_Active3', 'AQ_Active4', 'geometry']\n",
    "Table3 = df2.filter(tab3_rem_col, axis=1)\n",
    "grid_detail=Table3.to_crs(4269)   # Converting the grid geometry to Equal Albers Area Projection\n",
    "grid_detail.head()"
   ]
  },
  {
   "cell_type": "code",
   "execution_count": 37,
   "id": "9acb43e9",
   "metadata": {},
   "outputs": [],
   "source": [
    "well_main_ng = pd.DataFrame(well_main.drop(columns='geometry'))\n",
    "grid_detail_ng = pd.DataFrame(grid_detail.drop(columns='geometry'))"
   ]
  },
  {
   "cell_type": "markdown",
   "id": "e5cebec0",
   "metadata": {},
   "source": [
    "<h4><font color='GREEN'>Spatially Joining the Well main and Grid table.</font> </h4>\n",
    "For all the well number we are trying to find the grid in which it occurs."
   ]
  },
  {
   "cell_type": "code",
   "execution_count": 46,
   "id": "e20ab326",
   "metadata": {},
   "outputs": [
    {
     "data": {
      "text/html": [
       "<div>\n",
       "<style scoped>\n",
       "    .dataframe tbody tr th:only-of-type {\n",
       "        vertical-align: middle;\n",
       "    }\n",
       "\n",
       "    .dataframe tbody tr th {\n",
       "        vertical-align: top;\n",
       "    }\n",
       "\n",
       "    .dataframe thead th {\n",
       "        text-align: right;\n",
       "    }\n",
       "</style>\n",
       "<table border=\"1\" class=\"dataframe\">\n",
       "  <thead>\n",
       "    <tr style=\"text-align: right;\">\n",
       "      <th></th>\n",
       "      <th>StateWellNumber</th>\n",
       "      <th>CELL_ID</th>\n",
       "    </tr>\n",
       "  </thead>\n",
       "  <tbody>\n",
       "    <tr>\n",
       "      <th>0</th>\n",
       "      <td>3617502</td>\n",
       "      <td>1013245</td>\n",
       "    </tr>\n",
       "    <tr>\n",
       "      <th>1</th>\n",
       "      <td>3617801</td>\n",
       "      <td>1016244</td>\n",
       "    </tr>\n",
       "    <tr>\n",
       "      <th>2</th>\n",
       "      <td>3617802</td>\n",
       "      <td>1015245</td>\n",
       "    </tr>\n",
       "    <tr>\n",
       "      <th>3</th>\n",
       "      <td>3617803</td>\n",
       "      <td>1015244</td>\n",
       "    </tr>\n",
       "    <tr>\n",
       "      <th>4</th>\n",
       "      <td>3625101</td>\n",
       "      <td>1017240</td>\n",
       "    </tr>\n",
       "  </tbody>\n",
       "</table>\n",
       "</div>"
      ],
      "text/plain": [
       "   StateWellNumber  CELL_ID\n",
       "0          3617502  1013245\n",
       "1          3617801  1016244\n",
       "2          3617802  1015245\n",
       "3          3617803  1015244\n",
       "4          3625101  1017240"
      ]
     },
     "execution_count": 46,
     "metadata": {},
     "output_type": "execute_result"
    }
   ],
   "source": [
    "well_cell_ij = well_main.sjoin(grid_detail, how=\"inner\")\n",
    "well_cell_ij=well_cell_ij.reset_index()\n",
    "w_c_ij = ['StateWellNumber','CELL_ID']\n",
    "well_cell = well_cell_ij.filter(w_c_ij, axis=1)\n",
    "well_cell.head()"
   ]
  },
  {
   "cell_type": "markdown",
   "id": "725b5239",
   "metadata": {},
   "source": [
    "<h4><font color='GREEN'>CREATING RELATIONAL DATABASE </font> </h4>"
   ]
  },
  {
   "cell_type": "code",
   "execution_count": 1,
   "id": "5bae7e78",
   "metadata": {},
   "outputs": [
    {
     "data": {
      "text/plain": [
       "'D:\\\\Fall22\\\\Python\\\\Capstone-project-II\\\\Nov_4\\\\DB23'"
      ]
     },
     "execution_count": 1,
     "metadata": {},
     "output_type": "execute_result"
    }
   ],
   "source": [
    "import os\n",
    "path_db = 'D:\\\\Fall22\\\\Python\\\\Capstone-project-II\\\\Nov_4\\\\DB23'\n",
    "os.chdir(path_db)\n",
    "os.getcwd()"
   ]
  },
  {
   "cell_type": "code",
   "execution_count": 2,
   "id": "db791dac",
   "metadata": {},
   "outputs": [],
   "source": [
    "import sqlite3\n",
    "con= sqlite3.connect(\"Proj23.db\")\n",
    "\n",
    "grid_info.to_sql('grid_info', con, index=False)\n",
    "layer_info.to_sql('layer_info',con, index=False)\n",
    "lay_depth.to_sql('lay_depth',con, index=False)\n",
    "\n",
    "con.commit()\n",
    "cur = con.cursor()"
   ]
  },
  {
   "cell_type": "markdown",
   "id": "a05897ff",
   "metadata": {},
   "source": [
    "<h4><font color='GREEN'> CREATING EMPTY DATABASE WITH Cell_ID as primary Key AND COPYING DATA FROM EXISTING TABLE. </font> </h4>"
   ]
  },
  {
   "cell_type": "code",
   "execution_count": 57,
   "id": "0e1d0ac8",
   "metadata": {},
   "outputs": [
    {
     "data": {
      "text/plain": [
       "<sqlite3.Cursor at 0x1bc6f48b260>"
      ]
     },
     "execution_count": 57,
     "metadata": {},
     "output_type": "execute_result"
    }
   ],
   "source": [
    "cur.execute(\"\"\"BEGIN TRANSACTION;\"\"\") #starting the process to edit database saved in cur variable\n",
    "cur.execute(\"\"\"ALTER TABLE grid_info RENAME TO old_grid_info;\"\"\") # renaming the existing table because we dont want to have same name for the table with keys\n",
    "cur.execute(\"\"\"\n",
    "CREATE TABLE grid_info\n",
    "(\n",
    " CELL_ID INTEGER,\n",
    " ROW INTEGER,\n",
    " COLUMN INTEGER,\n",
    " CONSTRAINT CELL_ID_pk PRIMARY KEY (CELL_ID)\n",
    ");\n",
    "\"\"\") # Creating a table specifying primary key\n",
    "\n",
    "cur.execute(\"\"\"INSERT INTO grid_info SELECT * FROM old_grid_info;\"\"\") # copying the content of old table to new table\n",
    "cur.execute(\"\"\"DROP TABLE old_grid_info \"\"\")#Syntax to Delete old table\n",
    "cur.execute(\"\"\"COMMIT;\"\"\") # closing the transaction by saving the changes"
   ]
  },
  {
   "cell_type": "code",
   "execution_count": null,
   "id": "ce4bf690",
   "metadata": {},
   "outputs": [],
   "source": [
    "#Replicating the layer description table in sql database specifying primary key.\n",
    "#Make Layer as primary Key(primary key name: LAYER_pk)"
   ]
  },
  {
   "cell_type": "code",
   "execution_count": 58,
   "id": "eedccd8c",
   "metadata": {},
   "outputs": [
    {
     "data": {
      "text/plain": [
       "<sqlite3.Cursor at 0x1bc6f48b260>"
      ]
     },
     "execution_count": 58,
     "metadata": {},
     "output_type": "execute_result"
    }
   ],
   "source": [
    "cur.execute(\"\"\"BEGIN TRANSACTION;\"\"\") #starting the process to edit database saved in cur variable\n",
    "cur.execute(\"\"\"ALTER TABLE layer_info RENAME TO old_layer_info;\"\"\") # renaming the existing table because we dont want to have same name for the table with keys\n",
    "cur.execute(\"\"\"\n",
    "CREATE TABLE layer_info\n",
    "(\n",
    " LAYER TEXT,\n",
    " DESCRIPTION TEXT,\n",
    " CONSTRAINT LAYER_pk PRIMARY KEY (LAYER)\n",
    ");\n",
    "\"\"\") # Creating a table specifying primary key\n",
    "\n",
    "cur.execute(\"\"\"INSERT INTO layer_info SELECT * FROM old_layer_info;\"\"\") # copying the content of old table to new table\n",
    "cur.execute(\"\"\"DROP TABLE old_layer_info \"\"\")#Syntax to Delete old table\n",
    "cur.execute(\"\"\"COMMIT;\"\"\") # closing the transaction by saving the changes"
   ]
  },
  {
   "cell_type": "code",
   "execution_count": null,
   "id": "0748dc65",
   "metadata": {},
   "outputs": [],
   "source": [
    "#Replicating the layer depth table in sql database specifying foreign key.\n",
    "#Make Layer as primary Key"
   ]
  },
  {
   "cell_type": "code",
   "execution_count": 59,
   "id": "5c87fa37",
   "metadata": {},
   "outputs": [
    {
     "data": {
      "text/plain": [
       "<sqlite3.Cursor at 0x1bc6f48b260>"
      ]
     },
     "execution_count": 59,
     "metadata": {},
     "output_type": "execute_result"
    }
   ],
   "source": [
    "cur.execute(\"\"\"BEGIN TRANSACTION;\"\"\") #starting the process to edit database saved in cur variable\n",
    "cur.execute(\"\"\"ALTER TABLE lay_depth RENAME TO old_lay_depth;\"\"\") # renaming the existing table because we dont want to have same name for the table with keys\n",
    "cur.execute(\"\"\"\n",
    "CREATE TABLE lay_depth\n",
    "(\n",
    " CELL_ID REAL,\n",
    " LAYER TEXT,\n",
    " DEPTH REAL,\n",
    " FOREIGN KEY (LAYER) REFERENCES lay_desc(LAYER),\n",
    " FOREIGN KEY (CELL_ID) REFERENCES grid_cell_desc(CELL_ID)\n",
    ");\n",
    "\"\"\") # Creating a table specifying primary key\n",
    "\n",
    "cur.execute(\"\"\"INSERT INTO lay_depth SELECT * FROM old_lay_depth;\"\"\") # copying the content of old table to new table\n",
    "cur.execute(\"\"\"DROP TABLE old_lay_depth \"\"\")#Syntax to Delete old table\n",
    "cur.execute(\"\"\"COMMIT;\"\"\") # closing the transaction by saving the changes"
   ]
  },
  {
   "cell_type": "code",
   "execution_count": 30,
   "id": "6b1ce8e9",
   "metadata": {},
   "outputs": [
    {
     "name": "stdout",
     "output_type": "stream",
     "text": [
      "[(-10000.0,), (-10000.0,), (-10000.0,), (-10000.0,), (-10000.0,)]\n"
     ]
    }
   ],
   "source": [
    "#Query\n",
    "query=cur.execute(\"\"\"SELECT \n",
    "    DEPTH\n",
    "FROM \n",
    "    lay_depth\n",
    "INNER JOIN grid_info \n",
    "    ON grid_info.CELL_ID = lay_depth.CELL_ID WHERE grid_info.ROW=1 AND grid_info.COLUMN=1;\"\"\")\n",
    "\n",
    "results = cur.fetchall()\n",
    "\n",
    "print(results)"
   ]
  },
  {
   "cell_type": "markdown",
   "id": "566a2a45",
   "metadata": {},
   "source": [
    "<h4><font color='GREEN'>USING GEOPANDAS TO IMPORT SHAPE FILES OF GRID</font> </h4>\n",
    "#We import shape files of grid(saved as from geo data base) because we want to preserve geometry of grid in our codes"
   ]
  },
  {
   "cell_type": "code",
   "execution_count": 34,
   "id": "24ea79a6",
   "metadata": {},
   "outputs": [],
   "source": [
    "# Importing GeoPandas library  \n",
    "# We import shape files of grid(saved as from geo data base) because we want to preserve geometry of grid in our codes.\n",
    "import geopandas as gpd"
   ]
  },
  {
   "cell_type": "markdown",
   "id": "3cae4bab",
   "metadata": {},
   "source": [
    "<h4><font color='GREEN'>Importing Well Main Table(Ground Water Database) from Texas Water Development Board.</font> </h4>"
   ]
  },
  {
   "cell_type": "code",
   "execution_count": 84,
   "id": "6638b950",
   "metadata": {},
   "outputs": [
    {
     "data": {
      "text/html": [
       "<div>\n",
       "<style scoped>\n",
       "    .dataframe tbody tr th:only-of-type {\n",
       "        vertical-align: middle;\n",
       "    }\n",
       "\n",
       "    .dataframe tbody tr th {\n",
       "        vertical-align: top;\n",
       "    }\n",
       "\n",
       "    .dataframe thead th {\n",
       "        text-align: right;\n",
       "    }\n",
       "</style>\n",
       "<table border=\"1\" class=\"dataframe\">\n",
       "  <thead>\n",
       "    <tr style=\"text-align: right;\">\n",
       "      <th></th>\n",
       "      <th>StateWellNumber</th>\n",
       "      <th>County</th>\n",
       "      <th>AquiferCode</th>\n",
       "      <th>Aquifer</th>\n",
       "      <th>LatitudeDD</th>\n",
       "      <th>LongitudeDD</th>\n",
       "      <th>WellDepth</th>\n",
       "      <th>LandSurfaceElevation</th>\n",
       "      <th>geometry</th>\n",
       "    </tr>\n",
       "  </thead>\n",
       "  <tbody>\n",
       "    <tr>\n",
       "      <th>0</th>\n",
       "      <td>140301</td>\n",
       "      <td>Dallam</td>\n",
       "      <td>121OGDP</td>\n",
       "      <td>Ogallala/Rita Blanca</td>\n",
       "      <td>36.493333</td>\n",
       "      <td>-103.039167</td>\n",
       "      <td>470.0</td>\n",
       "      <td>4702.0</td>\n",
       "      <td>POINT (-103.03917 36.49333)</td>\n",
       "    </tr>\n",
       "    <tr>\n",
       "      <th>1</th>\n",
       "      <td>140302</td>\n",
       "      <td>Dallam</td>\n",
       "      <td>121OGDP</td>\n",
       "      <td>Ogallala/Rita Blanca</td>\n",
       "      <td>36.467500</td>\n",
       "      <td>-103.004445</td>\n",
       "      <td>180.0</td>\n",
       "      <td>4644.0</td>\n",
       "      <td>POINT (-103.00445 36.46750)</td>\n",
       "    </tr>\n",
       "    <tr>\n",
       "      <th>2</th>\n",
       "      <td>140601</td>\n",
       "      <td>Dallam</td>\n",
       "      <td>211DKOP</td>\n",
       "      <td>Rita Blanca</td>\n",
       "      <td>36.435000</td>\n",
       "      <td>-103.021389</td>\n",
       "      <td>390.0</td>\n",
       "      <td>4692.0</td>\n",
       "      <td>POINT (-103.02139 36.43500)</td>\n",
       "    </tr>\n",
       "    <tr>\n",
       "      <th>3</th>\n",
       "      <td>140901</td>\n",
       "      <td>Dallam</td>\n",
       "      <td>121OGLL</td>\n",
       "      <td>Ogallala</td>\n",
       "      <td>36.383611</td>\n",
       "      <td>-103.015000</td>\n",
       "      <td>346.0</td>\n",
       "      <td>4669.0</td>\n",
       "      <td>POINT (-103.01500 36.38361)</td>\n",
       "    </tr>\n",
       "    <tr>\n",
       "      <th>4</th>\n",
       "      <td>140902</td>\n",
       "      <td>Dallam</td>\n",
       "      <td>121OGLD</td>\n",
       "      <td>Ogallala/Rita Blanca</td>\n",
       "      <td>36.408333</td>\n",
       "      <td>-103.036944</td>\n",
       "      <td>160.0</td>\n",
       "      <td>4690.0</td>\n",
       "      <td>POINT (-103.03694 36.40833)</td>\n",
       "    </tr>\n",
       "  </tbody>\n",
       "</table>\n",
       "</div>"
      ],
      "text/plain": [
       "   StateWellNumber  County AquiferCode               Aquifer  LatitudeDD  \\\n",
       "0           140301  Dallam     121OGDP  Ogallala/Rita Blanca   36.493333   \n",
       "1           140302  Dallam     121OGDP  Ogallala/Rita Blanca   36.467500   \n",
       "2           140601  Dallam     211DKOP           Rita Blanca   36.435000   \n",
       "3           140901  Dallam     121OGLL              Ogallala   36.383611   \n",
       "4           140902  Dallam     121OGLD  Ogallala/Rita Blanca   36.408333   \n",
       "\n",
       "   LongitudeDD  WellDepth  LandSurfaceElevation                     geometry  \n",
       "0  -103.039167      470.0                4702.0  POINT (-103.03917 36.49333)  \n",
       "1  -103.004445      180.0                4644.0  POINT (-103.00445 36.46750)  \n",
       "2  -103.021389      390.0                4692.0  POINT (-103.02139 36.43500)  \n",
       "3  -103.015000      346.0                4669.0  POINT (-103.01500 36.38361)  \n",
       "4  -103.036944      160.0                4690.0  POINT (-103.03694 36.40833)  "
      ]
     },
     "execution_count": 84,
     "metadata": {},
     "output_type": "execute_result"
    }
   ],
   "source": [
    "df_wm = pd.read_csv(\"D:\\\\Fall22\\\\Python\\\\Capstone-project-II\\\\Nov_4\\\\inputs\\\\WellMain.csv\", usecols = ['StateWellNumber','County','AquiferCode','Aquifer','LatitudeDD','LongitudeDD','WellDepth','LandSurfaceElevation'])\n",
    "# Creating a geometry column \n",
    "geodf= gpd.GeoDataFrame(df_wm, geometry=gpd.points_from_xy(df_wm.LongitudeDD, df_wm.LatitudeDD, crs=\"EPSG:4326\"))# WGS84 System: crs='EPSG:4326'\n",
    "well_main = geodf.to_crs(4269) # NAD83 System: crs='EPSG:4269'\n",
    "well_main.head()"
   ]
  },
  {
   "cell_type": "code",
   "execution_count": 40,
   "id": "32815878",
   "metadata": {},
   "outputs": [
    {
     "data": {
      "text/html": [
       "<div>\n",
       "<style scoped>\n",
       "    .dataframe tbody tr th:only-of-type {\n",
       "        vertical-align: middle;\n",
       "    }\n",
       "\n",
       "    .dataframe tbody tr th {\n",
       "        vertical-align: top;\n",
       "    }\n",
       "\n",
       "    .dataframe thead th {\n",
       "        text-align: right;\n",
       "    }\n",
       "</style>\n",
       "<table border=\"1\" class=\"dataframe\">\n",
       "  <thead>\n",
       "    <tr style=\"text-align: right;\">\n",
       "      <th></th>\n",
       "      <th>CELL_ID</th>\n",
       "      <th>CountyName</th>\n",
       "      <th>CountyNum</th>\n",
       "      <th>CentroidX</th>\n",
       "      <th>CentroidY</th>\n",
       "      <th>AQ_Active1</th>\n",
       "      <th>AQ_Active2</th>\n",
       "      <th>AQ_Active3</th>\n",
       "      <th>AQ_Active4</th>\n",
       "      <th>geometry</th>\n",
       "    </tr>\n",
       "  </thead>\n",
       "  <tbody>\n",
       "    <tr>\n",
       "      <th>0</th>\n",
       "      <td>1001001</td>\n",
       "      <td>Caldwell</td>\n",
       "      <td>28</td>\n",
       "      <td>5.737261e+06</td>\n",
       "      <td>1.915459e+07</td>\n",
       "      <td>0</td>\n",
       "      <td>0</td>\n",
       "      <td>0</td>\n",
       "      <td>0</td>\n",
       "      <td>POLYGON ((-97.43502 29.77012, -97.42158 29.778...</td>\n",
       "    </tr>\n",
       "    <tr>\n",
       "      <th>1</th>\n",
       "      <td>1001002</td>\n",
       "      <td>Caldwell</td>\n",
       "      <td>28</td>\n",
       "      <td>5.741444e+06</td>\n",
       "      <td>1.915782e+07</td>\n",
       "      <td>0</td>\n",
       "      <td>0</td>\n",
       "      <td>0</td>\n",
       "      <td>0</td>\n",
       "      <td>POLYGON ((-97.42158 29.77869, -97.40814 29.787...</td>\n",
       "    </tr>\n",
       "    <tr>\n",
       "      <th>2</th>\n",
       "      <td>1001003</td>\n",
       "      <td>Caldwell</td>\n",
       "      <td>28</td>\n",
       "      <td>5.745627e+06</td>\n",
       "      <td>1.916104e+07</td>\n",
       "      <td>0</td>\n",
       "      <td>0</td>\n",
       "      <td>0</td>\n",
       "      <td>0</td>\n",
       "      <td>POLYGON ((-97.40814 29.78727, -97.39469 29.795...</td>\n",
       "    </tr>\n",
       "    <tr>\n",
       "      <th>3</th>\n",
       "      <td>1001004</td>\n",
       "      <td>Caldwell</td>\n",
       "      <td>28</td>\n",
       "      <td>5.749810e+06</td>\n",
       "      <td>1.916426e+07</td>\n",
       "      <td>0</td>\n",
       "      <td>0</td>\n",
       "      <td>0</td>\n",
       "      <td>0</td>\n",
       "      <td>POLYGON ((-97.39469 29.79584, -97.38124 29.804...</td>\n",
       "    </tr>\n",
       "    <tr>\n",
       "      <th>4</th>\n",
       "      <td>1001005</td>\n",
       "      <td>Caldwell</td>\n",
       "      <td>28</td>\n",
       "      <td>5.753994e+06</td>\n",
       "      <td>1.916748e+07</td>\n",
       "      <td>0</td>\n",
       "      <td>0</td>\n",
       "      <td>0</td>\n",
       "      <td>0</td>\n",
       "      <td>POLYGON ((-97.38124 29.80441, -97.36779 29.812...</td>\n",
       "    </tr>\n",
       "  </tbody>\n",
       "</table>\n",
       "</div>"
      ],
      "text/plain": [
       "   CELL_ID CountyName  CountyNum     CentroidX     CentroidY  AQ_Active1  \\\n",
       "0  1001001   Caldwell         28  5.737261e+06  1.915459e+07           0   \n",
       "1  1001002   Caldwell         28  5.741444e+06  1.915782e+07           0   \n",
       "2  1001003   Caldwell         28  5.745627e+06  1.916104e+07           0   \n",
       "3  1001004   Caldwell         28  5.749810e+06  1.916426e+07           0   \n",
       "4  1001005   Caldwell         28  5.753994e+06  1.916748e+07           0   \n",
       "\n",
       "   AQ_Active2  AQ_Active3  AQ_Active4  \\\n",
       "0           0           0           0   \n",
       "1           0           0           0   \n",
       "2           0           0           0   \n",
       "3           0           0           0   \n",
       "4           0           0           0   \n",
       "\n",
       "                                            geometry  \n",
       "0  POLYGON ((-97.43502 29.77012, -97.42158 29.778...  \n",
       "1  POLYGON ((-97.42158 29.77869, -97.40814 29.787...  \n",
       "2  POLYGON ((-97.40814 29.78727, -97.39469 29.795...  \n",
       "3  POLYGON ((-97.39469 29.79584, -97.38124 29.804...  \n",
       "4  POLYGON ((-97.38124 29.80441, -97.36779 29.812...  "
      ]
     },
     "execution_count": 40,
     "metadata": {},
     "output_type": "execute_result"
    }
   ],
   "source": [
    "df2 = gpd.read_file('D:\\\\Fall22\\\\Python\\\\Capstone-project-II\\\\Nov_4\\\\inputs\\\\GRID.zip')   # shape file of grid\n",
    "tab3_rem_col = ['CELL_ID','CountyName','CountyNum','CentroidX','CentroidY','AQ_Active1','AQ_Active2','AQ_Active3', 'AQ_Active4', 'geometry']\n",
    "Table3 = df2.filter(tab3_rem_col, axis=1)\n",
    "grid_detail=Table3.to_crs(4269)   # Converting the grid geometry to Equal Albers Area Projection\n",
    "grid_detail.head()"
   ]
  },
  {
   "cell_type": "code",
   "execution_count": 41,
   "id": "e2ff1512",
   "metadata": {},
   "outputs": [],
   "source": [
    "well_main_ng = pd.DataFrame(well_main.drop(columns='geometry'))\n",
    "grid_detail_ng = pd.DataFrame(grid_detail.drop(columns='geometry'))"
   ]
  },
  {
   "cell_type": "code",
   "execution_count": 53,
   "id": "80b07631",
   "metadata": {},
   "outputs": [
    {
     "data": {
      "text/html": [
       "<div>\n",
       "<style scoped>\n",
       "    .dataframe tbody tr th:only-of-type {\n",
       "        vertical-align: middle;\n",
       "    }\n",
       "\n",
       "    .dataframe tbody tr th {\n",
       "        vertical-align: top;\n",
       "    }\n",
       "\n",
       "    .dataframe thead th {\n",
       "        text-align: right;\n",
       "    }\n",
       "</style>\n",
       "<table border=\"1\" class=\"dataframe\">\n",
       "  <thead>\n",
       "    <tr style=\"text-align: right;\">\n",
       "      <th></th>\n",
       "      <th>index</th>\n",
       "      <th>StateWellNumber</th>\n",
       "      <th>County</th>\n",
       "      <th>AquiferCode</th>\n",
       "      <th>Aquifer</th>\n",
       "      <th>LatitudeDD</th>\n",
       "      <th>LongitudeDD</th>\n",
       "      <th>WellDepth</th>\n",
       "      <th>LandSurfaceElevation</th>\n",
       "      <th>geometry</th>\n",
       "      <th>index_right</th>\n",
       "      <th>CELL_ID</th>\n",
       "      <th>CountyName</th>\n",
       "      <th>CountyNum</th>\n",
       "      <th>CentroidX</th>\n",
       "      <th>CentroidY</th>\n",
       "      <th>AQ_Active1</th>\n",
       "      <th>AQ_Active2</th>\n",
       "      <th>AQ_Active3</th>\n",
       "      <th>AQ_Active4</th>\n",
       "    </tr>\n",
       "  </thead>\n",
       "  <tbody>\n",
       "    <tr>\n",
       "      <th>0</th>\n",
       "      <td>55364</td>\n",
       "      <td>3617502</td>\n",
       "      <td>Shelby</td>\n",
       "      <td>124WLCX</td>\n",
       "      <td>Carrizo-Wilcox</td>\n",
       "      <td>31.679722</td>\n",
       "      <td>-93.958612</td>\n",
       "      <td>31.0</td>\n",
       "      <td>260.0</td>\n",
       "      <td>POINT (-93.95861 31.67972)</td>\n",
       "      <td>3184</td>\n",
       "      <td>1013245</td>\n",
       "      <td>Shelby</td>\n",
       "      <td>210</td>\n",
       "      <td>6.796587e+06</td>\n",
       "      <td>1.989054e+07</td>\n",
       "      <td>0</td>\n",
       "      <td>0</td>\n",
       "      <td>0</td>\n",
       "      <td>0</td>\n",
       "    </tr>\n",
       "    <tr>\n",
       "      <th>1</th>\n",
       "      <td>55366</td>\n",
       "      <td>3617801</td>\n",
       "      <td>Shelby</td>\n",
       "      <td>NOT-APPL</td>\n",
       "      <td>Unassigned</td>\n",
       "      <td>31.627778</td>\n",
       "      <td>-93.949167</td>\n",
       "      <td>NaN</td>\n",
       "      <td>276.0</td>\n",
       "      <td>POINT (-93.94917 31.62778)</td>\n",
       "      <td>3918</td>\n",
       "      <td>1016244</td>\n",
       "      <td>Shelby</td>\n",
       "      <td>210</td>\n",
       "      <td>6.802070e+06</td>\n",
       "      <td>1.987477e+07</td>\n",
       "      <td>0</td>\n",
       "      <td>0</td>\n",
       "      <td>0</td>\n",
       "      <td>0</td>\n",
       "    </tr>\n",
       "    <tr>\n",
       "      <th>2</th>\n",
       "      <td>55367</td>\n",
       "      <td>3617802</td>\n",
       "      <td>Shelby</td>\n",
       "      <td>124WLCX</td>\n",
       "      <td>Carrizo-Wilcox</td>\n",
       "      <td>31.655278</td>\n",
       "      <td>-93.931667</td>\n",
       "      <td>50.0</td>\n",
       "      <td>325.0</td>\n",
       "      <td>POINT (-93.93167 31.65528)</td>\n",
       "      <td>3674</td>\n",
       "      <td>1015245</td>\n",
       "      <td>Shelby</td>\n",
       "      <td>210</td>\n",
       "      <td>6.803031e+06</td>\n",
       "      <td>1.988218e+07</td>\n",
       "      <td>0</td>\n",
       "      <td>0</td>\n",
       "      <td>0</td>\n",
       "      <td>0</td>\n",
       "    </tr>\n",
       "    <tr>\n",
       "      <th>3</th>\n",
       "      <td>55368</td>\n",
       "      <td>3617803</td>\n",
       "      <td>Shelby</td>\n",
       "      <td>124WLCX</td>\n",
       "      <td>Carrizo-Wilcox</td>\n",
       "      <td>31.640834</td>\n",
       "      <td>-93.949445</td>\n",
       "      <td>143.0</td>\n",
       "      <td>312.0</td>\n",
       "      <td>POINT (-93.94944 31.64083)</td>\n",
       "      <td>3673</td>\n",
       "      <td>1015244</td>\n",
       "      <td>Shelby</td>\n",
       "      <td>210</td>\n",
       "      <td>6.798848e+06</td>\n",
       "      <td>1.987896e+07</td>\n",
       "      <td>0</td>\n",
       "      <td>0</td>\n",
       "      <td>0</td>\n",
       "      <td>0</td>\n",
       "    </tr>\n",
       "    <tr>\n",
       "      <th>4</th>\n",
       "      <td>55372</td>\n",
       "      <td>3625101</td>\n",
       "      <td>Shelby</td>\n",
       "      <td>124WLCX</td>\n",
       "      <td>Carrizo-Wilcox</td>\n",
       "      <td>31.589167</td>\n",
       "      <td>-93.987222</td>\n",
       "      <td>232.0</td>\n",
       "      <td>302.0</td>\n",
       "      <td>POINT (-93.98722 31.58917)</td>\n",
       "      <td>4159</td>\n",
       "      <td>1017240</td>\n",
       "      <td>Shelby</td>\n",
       "      <td>210</td>\n",
       "      <td>6.788561e+06</td>\n",
       "      <td>1.985770e+07</td>\n",
       "      <td>0</td>\n",
       "      <td>0</td>\n",
       "      <td>0</td>\n",
       "      <td>0</td>\n",
       "    </tr>\n",
       "  </tbody>\n",
       "</table>\n",
       "</div>"
      ],
      "text/plain": [
       "   index  StateWellNumber  County AquiferCode         Aquifer  LatitudeDD  \\\n",
       "0  55364          3617502  Shelby     124WLCX  Carrizo-Wilcox   31.679722   \n",
       "1  55366          3617801  Shelby    NOT-APPL      Unassigned   31.627778   \n",
       "2  55367          3617802  Shelby     124WLCX  Carrizo-Wilcox   31.655278   \n",
       "3  55368          3617803  Shelby     124WLCX  Carrizo-Wilcox   31.640834   \n",
       "4  55372          3625101  Shelby     124WLCX  Carrizo-Wilcox   31.589167   \n",
       "\n",
       "   LongitudeDD  WellDepth  LandSurfaceElevation                    geometry  \\\n",
       "0   -93.958612       31.0                 260.0  POINT (-93.95861 31.67972)   \n",
       "1   -93.949167        NaN                 276.0  POINT (-93.94917 31.62778)   \n",
       "2   -93.931667       50.0                 325.0  POINT (-93.93167 31.65528)   \n",
       "3   -93.949445      143.0                 312.0  POINT (-93.94944 31.64083)   \n",
       "4   -93.987222      232.0                 302.0  POINT (-93.98722 31.58917)   \n",
       "\n",
       "   index_right  CELL_ID CountyName  CountyNum     CentroidX     CentroidY  \\\n",
       "0         3184  1013245     Shelby        210  6.796587e+06  1.989054e+07   \n",
       "1         3918  1016244     Shelby        210  6.802070e+06  1.987477e+07   \n",
       "2         3674  1015245     Shelby        210  6.803031e+06  1.988218e+07   \n",
       "3         3673  1015244     Shelby        210  6.798848e+06  1.987896e+07   \n",
       "4         4159  1017240     Shelby        210  6.788561e+06  1.985770e+07   \n",
       "\n",
       "   AQ_Active1  AQ_Active2  AQ_Active3  AQ_Active4  \n",
       "0           0           0           0           0  \n",
       "1           0           0           0           0  \n",
       "2           0           0           0           0  \n",
       "3           0           0           0           0  \n",
       "4           0           0           0           0  "
      ]
     },
     "execution_count": 53,
     "metadata": {},
     "output_type": "execute_result"
    }
   ],
   "source": [
    "well_cell_ij = well_main.sjoin(grid_detail, how=\"inner\")\n",
    "well_cell_ij=well_cell_ij.reset_index()\n",
    "#w_c_ij = ['StateWellNumber','CELL_ID']\n",
    "well_cell = well_cell_ij.filter(w_c_ij, axis=1)\n",
    "well_cell_ij.head()"
   ]
  },
  {
   "cell_type": "markdown",
   "id": "dc8623e9",
   "metadata": {},
   "source": [
    "<h4><font color='GREEN'>Adding More table to database.</font> </h4>"
   ]
  },
  {
   "cell_type": "code",
   "execution_count": 56,
   "id": "34afbebd",
   "metadata": {},
   "outputs": [],
   "source": [
    "con= sqlite3.connect(\"Proj23.db\")\n",
    "\n",
    "well_main_ng.to_sql('well_main', con, index=False)\n",
    "grid_detail_ng.to_sql('grid_detail',con, index=False)\n",
    "well_cell.to_sql('well_cell',con, index=False)\n",
    "\n",
    "con.commit()\n",
    "cur = con.cursor()"
   ]
  },
  {
   "cell_type": "markdown",
   "id": "ca3a15a7",
   "metadata": {},
   "source": [
    "<h4><font color='GREEN'>Joining Tables by Values.</font> </h4>"
   ]
  },
  {
   "cell_type": "code",
   "execution_count": 57,
   "id": "6a477b75",
   "metadata": {},
   "outputs": [],
   "source": [
    "#joining table well_cell and well_main.\n",
    "cur.execute(\"\"\"CREATE TABLE X AS SELECT * \n",
    "FROM well_main\n",
    "INNER JOIN well_cell ON well_main.StateWellNumber = well_cell.StateWellNumber;\"\"\")\n",
    "\n",
    "results = cur.fetchall()"
   ]
  },
  {
   "cell_type": "code",
   "execution_count": 58,
   "id": "a61610d0",
   "metadata": {},
   "outputs": [],
   "source": [
    "#joining table well_cell and grid_detail.\n",
    "cur.execute(\"\"\"CREATE TABLE Y AS SELECT * \n",
    "FROM grid_detail\n",
    "INNER JOIN well_cell ON grid_detail.CELL_ID = well_cell.CELL_ID;\"\"\")\n",
    "\n",
    "results = cur.fetchall()"
   ]
  },
  {
   "cell_type": "code",
   "execution_count": 34,
   "id": "22b180e6",
   "metadata": {},
   "outputs": [],
   "source": [
    "# Importing Grid Shapefile\n",
    "# We got geo database package in our GAM files, we imported that to QGIS converted to ESRI SHapefile."
   ]
  },
  {
   "cell_type": "code",
   "execution_count": 85,
   "id": "80f461ea",
   "metadata": {},
   "outputs": [
    {
     "data": {
      "text/plain": [
       "<AxesSubplot:>"
      ]
     },
     "execution_count": 85,
     "metadata": {},
     "output_type": "execute_result"
    },
    {
     "data": {
      "image/png": "[encoded data removed]",
      "text/plain": [
       "<Figure size 432x288 with 1 Axes>"
      ]
     },
     "metadata": {
      "needs_background": "light"
     },
     "output_type": "display_data"
    }
   ],
   "source": [
    "grid_f = 'D:\\\\Fall22\\\\Python\\\\Capstone-project-II\\\\Nov_4\\\\inputs\\\\GRID.zip'\n",
    "grid = gpd.read_file(grid_f)\n",
    "grid=grid.to_crs(4269)\n",
    "grid.plot()"
   ]
  },
  {
   "cell_type": "markdown",
   "id": "c5b7b6d9",
   "metadata": {},
   "source": [
    "<h1><font color='GREEN'>VISUALIZATION.</font> </h1>"
   ]
  },
  {
   "cell_type": "code",
   "execution_count": 79,
   "id": "c117e329",
   "metadata": {},
   "outputs": [],
   "source": [
    "cnty_f = 'D:\\\\Fall22\\\\Python\\\\Capstone-project-II\\\\Nov_4\\\\inputs\\\\TX_County.zip'\n",
    "cnty = gpd.read_file(cnty_f)\n",
    "se = cnty[cnty.CNTY_NM.isin([\"Jefferson\",\"Newton\",\"Orange\",\"Chambers\",\"Galveston\",\"Harris\",\"Montgomery\",\"Walker\",\"San Jacinto\",\"Polk\",\"Tyler\",\"Jasper\",\"Liberty\",\"Hardin\",])] # its crs is 4326\n",
    "southeast = se.to_crs(4269) # NAD83 System: crs='EPSG:4269'"
   ]
  },
  {
   "cell_type": "code",
   "execution_count": 120,
   "id": "fc95c225",
   "metadata": {},
   "outputs": [],
   "source": [
    "southeast.to_file('D:\\\\Fall22\\\\Python\\\\Capstone-project-II\\\\Nov_4\\\\shp_elv\\\\southeast.shp')"
   ]
  },
  {
   "cell_type": "code",
   "execution_count": 122,
   "id": "d3c27c87",
   "metadata": {},
   "outputs": [
    {
     "data": {
      "text/html": [
       "<div>\n",
       "<style scoped>\n",
       "    .dataframe tbody tr th:only-of-type {\n",
       "        vertical-align: middle;\n",
       "    }\n",
       "\n",
       "    .dataframe tbody tr th {\n",
       "        vertical-align: top;\n",
       "    }\n",
       "\n",
       "    .dataframe thead th {\n",
       "        text-align: right;\n",
       "    }\n",
       "</style>\n",
       "<table border=\"1\" class=\"dataframe\">\n",
       "  <thead>\n",
       "    <tr style=\"text-align: right;\">\n",
       "      <th></th>\n",
       "      <th>StateWellNumber</th>\n",
       "      <th>County</th>\n",
       "      <th>AquiferCode</th>\n",
       "      <th>Aquifer</th>\n",
       "      <th>LatitudeDD</th>\n",
       "      <th>LongitudeDD</th>\n",
       "      <th>WellDepth</th>\n",
       "      <th>LandSurfaceElevation</th>\n",
       "      <th>geometry</th>\n",
       "      <th>WaterElevation</th>\n",
       "    </tr>\n",
       "  </thead>\n",
       "  <tbody>\n",
       "    <tr>\n",
       "      <th>0</th>\n",
       "      <td>140901</td>\n",
       "      <td>Dallam</td>\n",
       "      <td>121OGLL</td>\n",
       "      <td>Ogallala</td>\n",
       "      <td>36.383611</td>\n",
       "      <td>-103.015000</td>\n",
       "      <td>346.0</td>\n",
       "      <td>4669.0</td>\n",
       "      <td>POINT (-103.01500 36.38361)</td>\n",
       "      <td>4585.743750</td>\n",
       "    </tr>\n",
       "    <tr>\n",
       "      <th>1</th>\n",
       "      <td>148301</td>\n",
       "      <td>Dallam</td>\n",
       "      <td>121OGLL</td>\n",
       "      <td>Ogallala</td>\n",
       "      <td>36.357501</td>\n",
       "      <td>-103.026111</td>\n",
       "      <td>132.0</td>\n",
       "      <td>4605.0</td>\n",
       "      <td>POINT (-103.02611 36.35750)</td>\n",
       "      <td>4523.866000</td>\n",
       "    </tr>\n",
       "    <tr>\n",
       "      <th>2</th>\n",
       "      <td>148902</td>\n",
       "      <td>Dallam</td>\n",
       "      <td>121OGLL</td>\n",
       "      <td>Ogallala</td>\n",
       "      <td>36.251389</td>\n",
       "      <td>-103.004167</td>\n",
       "      <td>235.0</td>\n",
       "      <td>4531.0</td>\n",
       "      <td>POINT (-103.00417 36.25139)</td>\n",
       "      <td>4370.618500</td>\n",
       "    </tr>\n",
       "    <tr>\n",
       "      <th>3</th>\n",
       "      <td>156301</td>\n",
       "      <td>Dallam</td>\n",
       "      <td>121OGLL</td>\n",
       "      <td>Ogallala</td>\n",
       "      <td>36.240834</td>\n",
       "      <td>-103.031667</td>\n",
       "      <td>303.0</td>\n",
       "      <td>4570.0</td>\n",
       "      <td>POINT (-103.03167 36.24083)</td>\n",
       "      <td>4420.772353</td>\n",
       "    </tr>\n",
       "    <tr>\n",
       "      <th>4</th>\n",
       "      <td>156308</td>\n",
       "      <td>Dallam</td>\n",
       "      <td>121OGLL</td>\n",
       "      <td>Ogallala</td>\n",
       "      <td>36.236945</td>\n",
       "      <td>-103.020000</td>\n",
       "      <td>287.0</td>\n",
       "      <td>4551.0</td>\n",
       "      <td>POINT (-103.02000 36.23694)</td>\n",
       "      <td>4481.000000</td>\n",
       "    </tr>\n",
       "  </tbody>\n",
       "</table>\n",
       "</div>"
      ],
      "text/plain": [
       "   StateWellNumber  County AquiferCode   Aquifer  LatitudeDD  LongitudeDD  \\\n",
       "0           140901  Dallam     121OGLL  Ogallala   36.383611  -103.015000   \n",
       "1           148301  Dallam     121OGLL  Ogallala   36.357501  -103.026111   \n",
       "2           148902  Dallam     121OGLL  Ogallala   36.251389  -103.004167   \n",
       "3           156301  Dallam     121OGLL  Ogallala   36.240834  -103.031667   \n",
       "4           156308  Dallam     121OGLL  Ogallala   36.236945  -103.020000   \n",
       "\n",
       "   WellDepth  LandSurfaceElevation                     geometry  \\\n",
       "0      346.0                4669.0  POINT (-103.01500 36.38361)   \n",
       "1      132.0                4605.0  POINT (-103.02611 36.35750)   \n",
       "2      235.0                4531.0  POINT (-103.00417 36.25139)   \n",
       "3      303.0                4570.0  POINT (-103.03167 36.24083)   \n",
       "4      287.0                4551.0  POINT (-103.02000 36.23694)   \n",
       "\n",
       "   WaterElevation  \n",
       "0     4585.743750  \n",
       "1     4523.866000  \n",
       "2     4370.618500  \n",
       "3     4420.772353  \n",
       "4     4481.000000  "
      ]
     },
     "execution_count": 122,
     "metadata": {},
     "output_type": "execute_result"
    }
   ],
   "source": [
    "wlm = pd.read_csv(\"D:\\\\Fall22\\\\Python\\\\Capstone-project-II\\\\Nov_4\\\\inputs\\\\WaterLevelsMajor.csv\", usecols = ['StateWellNumber','WaterElevation'])\n",
    "mean_wl=wlm.groupby('StateWellNumber').mean()\n",
    "we_inner = pd.merge(well_main, mean_wl, on='StateWellNumber', how='inner')\n",
    "we_inner.head()"
   ]
  },
  {
   "cell_type": "code",
   "execution_count": 125,
   "id": "25e906f2",
   "metadata": {},
   "outputs": [
    {
     "data": {
      "text/html": [
       "<div>\n",
       "<style scoped>\n",
       "    .dataframe tbody tr th:only-of-type {\n",
       "        vertical-align: middle;\n",
       "    }\n",
       "\n",
       "    .dataframe tbody tr th {\n",
       "        vertical-align: top;\n",
       "    }\n",
       "\n",
       "    .dataframe thead th {\n",
       "        text-align: right;\n",
       "    }\n",
       "</style>\n",
       "<table border=\"1\" class=\"dataframe\">\n",
       "  <thead>\n",
       "    <tr style=\"text-align: right;\">\n",
       "      <th></th>\n",
       "      <th>StateWellNumber</th>\n",
       "      <th>County</th>\n",
       "      <th>AquiferCode</th>\n",
       "      <th>Aquifer</th>\n",
       "      <th>LatitudeDD</th>\n",
       "      <th>LongitudeDD</th>\n",
       "      <th>WellDepth</th>\n",
       "      <th>LandSurfaceElevation</th>\n",
       "      <th>geometry</th>\n",
       "      <th>WaterElevation</th>\n",
       "    </tr>\n",
       "  </thead>\n",
       "  <tbody>\n",
       "    <tr>\n",
       "      <th>20916</th>\n",
       "      <td>3764301</td>\n",
       "      <td>Jasper</td>\n",
       "      <td>122CTHL</td>\n",
       "      <td>Gulf Coast</td>\n",
       "      <td>31.110001</td>\n",
       "      <td>-94.023611</td>\n",
       "      <td>24.0</td>\n",
       "      <td>210.0</td>\n",
       "      <td>POINT (-94.02361 31.11000)</td>\n",
       "      <td>192.300</td>\n",
       "    </tr>\n",
       "    <tr>\n",
       "      <th>20422</th>\n",
       "      <td>3657201</td>\n",
       "      <td>Jasper</td>\n",
       "      <td>122CTHL</td>\n",
       "      <td>Gulf Coast</td>\n",
       "      <td>31.123333</td>\n",
       "      <td>-93.943056</td>\n",
       "      <td>185.0</td>\n",
       "      <td>236.0</td>\n",
       "      <td>POINT (-93.94306 31.12333)</td>\n",
       "      <td>195.500</td>\n",
       "    </tr>\n",
       "    <tr>\n",
       "      <th>20420</th>\n",
       "      <td>3657105</td>\n",
       "      <td>Jasper</td>\n",
       "      <td>122CTHL</td>\n",
       "      <td>Gulf Coast</td>\n",
       "      <td>31.123889</td>\n",
       "      <td>-93.983611</td>\n",
       "      <td>360.0</td>\n",
       "      <td>240.0</td>\n",
       "      <td>POINT (-93.98361 31.12389)</td>\n",
       "      <td>160.305</td>\n",
       "    </tr>\n",
       "    <tr>\n",
       "      <th>20902</th>\n",
       "      <td>3756903</td>\n",
       "      <td>Jasper</td>\n",
       "      <td>122CTHL</td>\n",
       "      <td>Gulf Coast</td>\n",
       "      <td>31.133055</td>\n",
       "      <td>-94.001389</td>\n",
       "      <td>24.0</td>\n",
       "      <td>220.0</td>\n",
       "      <td>POINT (-94.00139 31.13305)</td>\n",
       "      <td>207.400</td>\n",
       "    </tr>\n",
       "    <tr>\n",
       "      <th>20406</th>\n",
       "      <td>3649801</td>\n",
       "      <td>Jasper</td>\n",
       "      <td>122CTHL</td>\n",
       "      <td>Gulf Coast</td>\n",
       "      <td>31.140278</td>\n",
       "      <td>-93.938611</td>\n",
       "      <td>14.0</td>\n",
       "      <td>242.0</td>\n",
       "      <td>POINT (-93.93861 31.14028)</td>\n",
       "      <td>229.100</td>\n",
       "    </tr>\n",
       "  </tbody>\n",
       "</table>\n",
       "</div>"
      ],
      "text/plain": [
       "       StateWellNumber  County AquiferCode     Aquifer  LatitudeDD  \\\n",
       "20916          3764301  Jasper     122CTHL  Gulf Coast   31.110001   \n",
       "20422          3657201  Jasper     122CTHL  Gulf Coast   31.123333   \n",
       "20420          3657105  Jasper     122CTHL  Gulf Coast   31.123889   \n",
       "20902          3756903  Jasper     122CTHL  Gulf Coast   31.133055   \n",
       "20406          3649801  Jasper     122CTHL  Gulf Coast   31.140278   \n",
       "\n",
       "       LongitudeDD  WellDepth  LandSurfaceElevation  \\\n",
       "20916   -94.023611       24.0                 210.0   \n",
       "20422   -93.943056      185.0                 236.0   \n",
       "20420   -93.983611      360.0                 240.0   \n",
       "20902   -94.001389       24.0                 220.0   \n",
       "20406   -93.938611       14.0                 242.0   \n",
       "\n",
       "                         geometry  WaterElevation  \n",
       "20916  POINT (-94.02361 31.11000)         192.300  \n",
       "20422  POINT (-93.94306 31.12333)         195.500  \n",
       "20420  POINT (-93.98361 31.12389)         160.305  \n",
       "20902  POINT (-94.00139 31.13305)         207.400  \n",
       "20406  POINT (-93.93861 31.14028)         229.100  "
      ]
     },
     "execution_count": 125,
     "metadata": {},
     "output_type": "execute_result"
    }
   ],
   "source": [
    "clip_we_by_cnty=gpd.clip(we_inner, southeast)\n",
    "clip_we_by_cnty.head()"
   ]
  },
  {
   "cell_type": "code",
   "execution_count": 119,
   "id": "309c506c",
   "metadata": {},
   "outputs": [
    {
     "name": "stderr",
     "output_type": "stream",
     "text": [
      "C:\\Users\\aawaz\\AppData\\Local\\Temp\\ipykernel_13636\\1519235273.py:1: UserWarning: Column names longer than 10 characters will be truncated when saved to ESRI Shapefile.\n",
      "  clip_we_by_cnty.to_file('D:\\\\Fall22\\\\Python\\\\Capstone-project-II\\\\Nov_4\\\\shp_elv\\\\clip_we_by_cnty.shp')\n"
     ]
    }
   ],
   "source": [
    "clip_we_by_cnty.to_file('D:\\\\Fall22\\\\Python\\\\Capstone-project-II\\\\Nov_4\\\\shp_elv\\\\clip_we_by_cnty.shp')"
   ]
  },
  {
   "cell_type": "code",
   "execution_count": 124,
   "id": "dc487bd9",
   "metadata": {},
   "outputs": [
    {
     "data": {
      "text/html": [
       "<div>\n",
       "<style scoped>\n",
       "    .dataframe tbody tr th:only-of-type {\n",
       "        vertical-align: middle;\n",
       "    }\n",
       "\n",
       "    .dataframe tbody tr th {\n",
       "        vertical-align: top;\n",
       "    }\n",
       "\n",
       "    .dataframe thead th {\n",
       "        text-align: right;\n",
       "    }\n",
       "</style>\n",
       "<table border=\"1\" class=\"dataframe\">\n",
       "  <thead>\n",
       "    <tr style=\"text-align: right;\">\n",
       "      <th></th>\n",
       "      <th>StateWellNumber</th>\n",
       "      <th>LatitudeDD</th>\n",
       "      <th>LongitudeDD</th>\n",
       "      <th>WellDepth</th>\n",
       "      <th>LandSurfaceElevation</th>\n",
       "      <th>WaterElevation</th>\n",
       "    </tr>\n",
       "    <tr>\n",
       "      <th>County</th>\n",
       "      <th></th>\n",
       "      <th></th>\n",
       "      <th></th>\n",
       "      <th></th>\n",
       "      <th></th>\n",
       "      <th></th>\n",
       "    </tr>\n",
       "  </thead>\n",
       "  <tbody>\n",
       "    <tr>\n",
       "      <th>Chambers</th>\n",
       "      <td>6.414590e+06</td>\n",
       "      <td>29.764989</td>\n",
       "      <td>-94.703468</td>\n",
       "      <td>244.528067</td>\n",
       "      <td>22.605809</td>\n",
       "      <td>-4.984246</td>\n",
       "    </tr>\n",
       "    <tr>\n",
       "      <th>Galveston</th>\n",
       "      <td>6.497169e+06</td>\n",
       "      <td>29.409672</td>\n",
       "      <td>-95.015314</td>\n",
       "      <td>723.326360</td>\n",
       "      <td>15.589958</td>\n",
       "      <td>-70.487183</td>\n",
       "    </tr>\n",
       "    <tr>\n",
       "      <th>Hardin</th>\n",
       "      <td>6.146963e+06</td>\n",
       "      <td>30.291452</td>\n",
       "      <td>-94.422862</td>\n",
       "      <td>293.126761</td>\n",
       "      <td>75.371560</td>\n",
       "      <td>50.016231</td>\n",
       "    </tr>\n",
       "    <tr>\n",
       "      <th>Harris</th>\n",
       "      <td>6.468932e+06</td>\n",
       "      <td>29.816603</td>\n",
       "      <td>-95.398281</td>\n",
       "      <td>759.454998</td>\n",
       "      <td>77.058638</td>\n",
       "      <td>-106.900222</td>\n",
       "    </tr>\n",
       "    <tr>\n",
       "      <th>Jasper</th>\n",
       "      <td>5.887956e+06</td>\n",
       "      <td>30.713961</td>\n",
       "      <td>-94.010263</td>\n",
       "      <td>318.964052</td>\n",
       "      <td>162.045161</td>\n",
       "      <td>127.527371</td>\n",
       "    </tr>\n",
       "    <tr>\n",
       "      <th>Jefferson</th>\n",
       "      <td>6.286827e+06</td>\n",
       "      <td>29.971459</td>\n",
       "      <td>-94.181358</td>\n",
       "      <td>258.959596</td>\n",
       "      <td>20.696970</td>\n",
       "      <td>7.177084</td>\n",
       "    </tr>\n",
       "    <tr>\n",
       "      <th>Liberty</th>\n",
       "      <td>6.162046e+06</td>\n",
       "      <td>30.156457</td>\n",
       "      <td>-94.831211</td>\n",
       "      <td>439.777457</td>\n",
       "      <td>81.788571</td>\n",
       "      <td>36.142703</td>\n",
       "    </tr>\n",
       "    <tr>\n",
       "      <th>Montgomery</th>\n",
       "      <td>6.046863e+06</td>\n",
       "      <td>30.284595</td>\n",
       "      <td>-95.492242</td>\n",
       "      <td>482.021075</td>\n",
       "      <td>202.745303</td>\n",
       "      <td>101.387667</td>\n",
       "    </tr>\n",
       "    <tr>\n",
       "      <th>Newton</th>\n",
       "      <td>5.666966e+06</td>\n",
       "      <td>30.793662</td>\n",
       "      <td>-93.737732</td>\n",
       "      <td>198.619565</td>\n",
       "      <td>169.607527</td>\n",
       "      <td>144.846354</td>\n",
       "    </tr>\n",
       "    <tr>\n",
       "      <th>Orange</th>\n",
       "      <td>6.233272e+06</td>\n",
       "      <td>30.121514</td>\n",
       "      <td>-93.878695</td>\n",
       "      <td>438.685065</td>\n",
       "      <td>15.181230</td>\n",
       "      <td>-9.035299</td>\n",
       "    </tr>\n",
       "    <tr>\n",
       "      <th>Polk</th>\n",
       "      <td>6.081673e+06</td>\n",
       "      <td>30.740618</td>\n",
       "      <td>-94.860583</td>\n",
       "      <td>215.089716</td>\n",
       "      <td>230.807359</td>\n",
       "      <td>181.198845</td>\n",
       "    </tr>\n",
       "    <tr>\n",
       "      <th>San Jacinto</th>\n",
       "      <td>6.045570e+06</td>\n",
       "      <td>30.573146</td>\n",
       "      <td>-95.149258</td>\n",
       "      <td>259.657895</td>\n",
       "      <td>226.006472</td>\n",
       "      <td>176.694772</td>\n",
       "    </tr>\n",
       "    <tr>\n",
       "      <th>Tyler</th>\n",
       "      <td>6.110455e+06</td>\n",
       "      <td>30.746347</td>\n",
       "      <td>-94.373278</td>\n",
       "      <td>249.601329</td>\n",
       "      <td>225.342020</td>\n",
       "      <td>178.375213</td>\n",
       "    </tr>\n",
       "    <tr>\n",
       "      <th>Walker</th>\n",
       "      <td>6.021472e+06</td>\n",
       "      <td>30.679157</td>\n",
       "      <td>-95.548414</td>\n",
       "      <td>436.094737</td>\n",
       "      <td>342.126316</td>\n",
       "      <td>205.653947</td>\n",
       "    </tr>\n",
       "  </tbody>\n",
       "</table>\n",
       "</div>"
      ],
      "text/plain": [
       "             StateWellNumber  LatitudeDD  LongitudeDD   WellDepth  \\\n",
       "County                                                              \n",
       "Chambers        6.414590e+06   29.764989   -94.703468  244.528067   \n",
       "Galveston       6.497169e+06   29.409672   -95.015314  723.326360   \n",
       "Hardin          6.146963e+06   30.291452   -94.422862  293.126761   \n",
       "Harris          6.468932e+06   29.816603   -95.398281  759.454998   \n",
       "Jasper          5.887956e+06   30.713961   -94.010263  318.964052   \n",
       "Jefferson       6.286827e+06   29.971459   -94.181358  258.959596   \n",
       "Liberty         6.162046e+06   30.156457   -94.831211  439.777457   \n",
       "Montgomery      6.046863e+06   30.284595   -95.492242  482.021075   \n",
       "Newton          5.666966e+06   30.793662   -93.737732  198.619565   \n",
       "Orange          6.233272e+06   30.121514   -93.878695  438.685065   \n",
       "Polk            6.081673e+06   30.740618   -94.860583  215.089716   \n",
       "San Jacinto     6.045570e+06   30.573146   -95.149258  259.657895   \n",
       "Tyler           6.110455e+06   30.746347   -94.373278  249.601329   \n",
       "Walker          6.021472e+06   30.679157   -95.548414  436.094737   \n",
       "\n",
       "             LandSurfaceElevation  WaterElevation  \n",
       "County                                             \n",
       "Chambers                22.605809       -4.984246  \n",
       "Galveston               15.589958      -70.487183  \n",
       "Hardin                  75.371560       50.016231  \n",
       "Harris                  77.058638     -106.900222  \n",
       "Jasper                 162.045161      127.527371  \n",
       "Jefferson               20.696970        7.177084  \n",
       "Liberty                 81.788571       36.142703  \n",
       "Montgomery             202.745303      101.387667  \n",
       "Newton                 169.607527      144.846354  \n",
       "Orange                  15.181230       -9.035299  \n",
       "Polk                   230.807359      181.198845  \n",
       "San Jacinto            226.006472      176.694772  \n",
       "Tyler                  225.342020      178.375213  \n",
       "Walker                 342.126316      205.653947  "
      ]
     },
     "execution_count": 124,
     "metadata": {},
     "output_type": "execute_result"
    }
   ],
   "source": [
    "avgdepth_cnty=clip_we_by_cnty.groupby('County').mean()\n",
    "avgdepth_cnty"
   ]
  },
  {
   "cell_type": "code",
   "execution_count": 129,
   "id": "f2ebc465",
   "metadata": {},
   "outputs": [],
   "source": [
    "import matplotlib.pyplot as plt"
   ]
  },
  {
   "cell_type": "code",
   "execution_count": 131,
   "id": "67fc1b5a",
   "metadata": {},
   "outputs": [
    {
     "data": {
      "image/png": "[encoded data removed]",
      "text/plain": [
       "<Figure size 432x288 with 1 Axes>"
      ]
     },
     "metadata": {
      "needs_background": "light"
     },
     "output_type": "display_data"
    }
   ],
   "source": [
    "#Plotting bar graph of land use in ratio to planted area.\n",
    "cnty_list=[\"Chambers\",\"Galveston\",\"Hardin\",\"Harris\",\"Jasper\",\"Jefferson\",\"Liberty\",\"Montgomery\",\"Newton\",\"Orange\",\"Polk\",\"San Jacinto\",\"Tyler\",\"Walker\" ]\n",
    "plt.bar(cnty_list, avgdepth_cnty.WaterElevation)\n",
    "plt.title('Average Water elevation of Graphical representation of land Use distribution per unit planted area.') # title\n",
    "plt.xlabel('Land Use') # x axis name\n",
    "plt.ylabel('Area ratio w.r.t cultivated area') # y axis name\n",
    "pl = plt.gca() # gca function used to get the current instance axes.\n",
    "pl.tick_params(axis='x', labelrotation = 90) # to rorate the names of land use by 90 degree.\n",
    "plt.show()# plot"
   ]
  },
  {
   "cell_type": "code",
   "execution_count": null,
   "id": "f55aea62",
   "metadata": {},
   "outputs": [],
   "source": []
  }
 ],
 "metadata": {
  "kernelspec": {
   "display_name": "Python 3 (ipykernel)",
   "language": "python",
   "name": "python3"
  },
  "language_info": {
   "codemirror_mode": {
    "name": "ipython",
    "version": 3
   },
   "file_extension": ".py",
   "mimetype": "text/x-python",
   "name": "python",
   "nbconvert_exporter": "python",
   "pygments_lexer": "ipython3",
   "version": "3.9.12"
  }
 },
 "nbformat": 4,
 "nbformat_minor": 5
}
